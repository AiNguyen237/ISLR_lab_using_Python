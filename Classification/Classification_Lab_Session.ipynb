{
  "nbformat": 4,
  "nbformat_minor": 0,
  "metadata": {
    "colab": {
      "name": "Classification_Lab_Session.ipynb",
      "provenance": [],
      "collapsed_sections": [],
      "authorship_tag": "ABX9TyM3KuUK2KAIjEsiVr+qYk/R",
      "include_colab_link": true
    },
    "kernelspec": {
      "name": "python3",
      "display_name": "Python 3"
    },
    "language_info": {
      "name": "python"
    }
  },
  "cells": [
    {
      "cell_type": "markdown",
      "metadata": {
        "id": "view-in-github",
        "colab_type": "text"
      },
      "source": [
        "<a href=\"https://colab.research.google.com/github/AiNguyen237/ISLR_lab_using_Python/blob/main/Classification/Classification_Lab_Session.ipynb\" target=\"_parent\"><img src=\"https://colab.research.google.com/assets/colab-badge.svg\" alt=\"Open In Colab\"/></a>"
      ]
    },
    {
      "cell_type": "markdown",
      "metadata": {
        "id": "94nYuDaEJ4kO"
      },
      "source": [
        "# 1. The Stock Market Data \n",
        "\n"
      ]
    },
    {
      "cell_type": "code",
      "metadata": {
        "id": "iYOHcyNYKxqL",
        "cellView": "form"
      },
      "source": [
        "#@title Import libraries \n",
        "import pandas as pd \n",
        "import numpy as np\n",
        "import seaborn as sns\n",
        "import matplotlib.pyplot as plt\n",
        "import statsmodels.api as sm\n",
        "from sklearn.naive_bayes import GaussianNB, MultinomialNB\n",
        "from sklearn.metrics import (confusion_matrix,accuracy_score)\n",
        "import sklearn.discriminant_analysis\n",
        "import sklearn.neighbors"
      ],
      "execution_count": null,
      "outputs": []
    },
    {
      "cell_type": "code",
      "metadata": {
        "id": "orDsrSvmJj9b"
      },
      "source": [
        "# Load the data\n",
        "Smarket = pd.read_csv('https://raw.githubusercontent.com/JWarmenhoven/ISLR-python/master/Notebooks/Data/Smarket.csv', index_col=0)"
      ],
      "execution_count": null,
      "outputs": []
    },
    {
      "cell_type": "markdown",
      "metadata": {
        "id": "L0tQj2sxLKms"
      },
      "source": [
        "Data: \n",
        "``Lag1`` to ``Lag5``: each of five previous trading days \n",
        "\n",
        "``Volume``: number of shares traded on the previous day, in billions \n",
        "\n",
        "``Today``: percentage return on the date in question \n",
        "\n",
        "``Direction``: whether the market was ``Up`` or ``Down`` on this date \n",
        "\n",
        "Goal: Predict ``Direction``\n"
      ]
    },
    {
      "cell_type": "code",
      "metadata": {
        "colab": {
          "base_uri": "https://localhost:8080/"
        },
        "id": "vQkEUUZKLB_y",
        "outputId": "edd59500-5a75-4bbe-f6be-f4182ffe972d"
      },
      "source": [
        "# Look at the data info\n",
        "Smarket.info()"
      ],
      "execution_count": null,
      "outputs": [
        {
          "output_type": "stream",
          "name": "stdout",
          "text": [
            "<class 'pandas.core.frame.DataFrame'>\n",
            "Int64Index: 1250 entries, 1 to 1250\n",
            "Data columns (total 9 columns):\n",
            " #   Column     Non-Null Count  Dtype  \n",
            "---  ------     --------------  -----  \n",
            " 0   Year       1250 non-null   int64  \n",
            " 1   Lag1       1250 non-null   float64\n",
            " 2   Lag2       1250 non-null   float64\n",
            " 3   Lag3       1250 non-null   float64\n",
            " 4   Lag4       1250 non-null   float64\n",
            " 5   Lag5       1250 non-null   float64\n",
            " 6   Volume     1250 non-null   float64\n",
            " 7   Today      1250 non-null   float64\n",
            " 8   Direction  1250 non-null   object \n",
            "dtypes: float64(7), int64(1), object(1)\n",
            "memory usage: 97.7+ KB\n"
          ]
        }
      ]
    },
    {
      "cell_type": "code",
      "metadata": {
        "colab": {
          "base_uri": "https://localhost:8080/",
          "height": 299
        },
        "id": "Y_IdX_e3L2Hx",
        "outputId": "309b3d79-71e4-4e3d-a9cb-a45a5158a5ac"
      },
      "source": [
        "# Data description\n",
        "Smarket.describe()"
      ],
      "execution_count": null,
      "outputs": [
        {
          "output_type": "execute_result",
          "data": {
            "text/html": [
              "<div>\n",
              "<style scoped>\n",
              "    .dataframe tbody tr th:only-of-type {\n",
              "        vertical-align: middle;\n",
              "    }\n",
              "\n",
              "    .dataframe tbody tr th {\n",
              "        vertical-align: top;\n",
              "    }\n",
              "\n",
              "    .dataframe thead th {\n",
              "        text-align: right;\n",
              "    }\n",
              "</style>\n",
              "<table border=\"1\" class=\"dataframe\">\n",
              "  <thead>\n",
              "    <tr style=\"text-align: right;\">\n",
              "      <th></th>\n",
              "      <th>Year</th>\n",
              "      <th>Lag1</th>\n",
              "      <th>Lag2</th>\n",
              "      <th>Lag3</th>\n",
              "      <th>Lag4</th>\n",
              "      <th>Lag5</th>\n",
              "      <th>Volume</th>\n",
              "      <th>Today</th>\n",
              "    </tr>\n",
              "  </thead>\n",
              "  <tbody>\n",
              "    <tr>\n",
              "      <th>count</th>\n",
              "      <td>1250.000000</td>\n",
              "      <td>1250.000000</td>\n",
              "      <td>1250.000000</td>\n",
              "      <td>1250.000000</td>\n",
              "      <td>1250.000000</td>\n",
              "      <td>1250.00000</td>\n",
              "      <td>1250.000000</td>\n",
              "      <td>1250.000000</td>\n",
              "    </tr>\n",
              "    <tr>\n",
              "      <th>mean</th>\n",
              "      <td>2003.016000</td>\n",
              "      <td>0.003834</td>\n",
              "      <td>0.003919</td>\n",
              "      <td>0.001716</td>\n",
              "      <td>0.001636</td>\n",
              "      <td>0.00561</td>\n",
              "      <td>1.478305</td>\n",
              "      <td>0.003138</td>\n",
              "    </tr>\n",
              "    <tr>\n",
              "      <th>std</th>\n",
              "      <td>1.409018</td>\n",
              "      <td>1.136299</td>\n",
              "      <td>1.136280</td>\n",
              "      <td>1.138703</td>\n",
              "      <td>1.138774</td>\n",
              "      <td>1.14755</td>\n",
              "      <td>0.360357</td>\n",
              "      <td>1.136334</td>\n",
              "    </tr>\n",
              "    <tr>\n",
              "      <th>min</th>\n",
              "      <td>2001.000000</td>\n",
              "      <td>-4.922000</td>\n",
              "      <td>-4.922000</td>\n",
              "      <td>-4.922000</td>\n",
              "      <td>-4.922000</td>\n",
              "      <td>-4.92200</td>\n",
              "      <td>0.356070</td>\n",
              "      <td>-4.922000</td>\n",
              "    </tr>\n",
              "    <tr>\n",
              "      <th>25%</th>\n",
              "      <td>2002.000000</td>\n",
              "      <td>-0.639500</td>\n",
              "      <td>-0.639500</td>\n",
              "      <td>-0.640000</td>\n",
              "      <td>-0.640000</td>\n",
              "      <td>-0.64000</td>\n",
              "      <td>1.257400</td>\n",
              "      <td>-0.639500</td>\n",
              "    </tr>\n",
              "    <tr>\n",
              "      <th>50%</th>\n",
              "      <td>2003.000000</td>\n",
              "      <td>0.039000</td>\n",
              "      <td>0.039000</td>\n",
              "      <td>0.038500</td>\n",
              "      <td>0.038500</td>\n",
              "      <td>0.03850</td>\n",
              "      <td>1.422950</td>\n",
              "      <td>0.038500</td>\n",
              "    </tr>\n",
              "    <tr>\n",
              "      <th>75%</th>\n",
              "      <td>2004.000000</td>\n",
              "      <td>0.596750</td>\n",
              "      <td>0.596750</td>\n",
              "      <td>0.596750</td>\n",
              "      <td>0.596750</td>\n",
              "      <td>0.59700</td>\n",
              "      <td>1.641675</td>\n",
              "      <td>0.596750</td>\n",
              "    </tr>\n",
              "    <tr>\n",
              "      <th>max</th>\n",
              "      <td>2005.000000</td>\n",
              "      <td>5.733000</td>\n",
              "      <td>5.733000</td>\n",
              "      <td>5.733000</td>\n",
              "      <td>5.733000</td>\n",
              "      <td>5.73300</td>\n",
              "      <td>3.152470</td>\n",
              "      <td>5.733000</td>\n",
              "    </tr>\n",
              "  </tbody>\n",
              "</table>\n",
              "</div>"
            ],
            "text/plain": [
              "              Year         Lag1  ...       Volume        Today\n",
              "count  1250.000000  1250.000000  ...  1250.000000  1250.000000\n",
              "mean   2003.016000     0.003834  ...     1.478305     0.003138\n",
              "std       1.409018     1.136299  ...     0.360357     1.136334\n",
              "min    2001.000000    -4.922000  ...     0.356070    -4.922000\n",
              "25%    2002.000000    -0.639500  ...     1.257400    -0.639500\n",
              "50%    2003.000000     0.039000  ...     1.422950     0.038500\n",
              "75%    2004.000000     0.596750  ...     1.641675     0.596750\n",
              "max    2005.000000     5.733000  ...     3.152470     5.733000\n",
              "\n",
              "[8 rows x 8 columns]"
            ]
          },
          "metadata": {},
          "execution_count": 4
        }
      ]
    },
    {
      "cell_type": "code",
      "metadata": {
        "colab": {
          "base_uri": "https://localhost:8080/"
        },
        "id": "POkDBCtXMTpV",
        "outputId": "b788fbe2-6cb9-4362-e37d-3f9af442fd50"
      },
      "source": [
        "# Check to see how many are Ups and how many are Downs in Direction\n",
        "Smarket.Direction.value_counts()"
      ],
      "execution_count": null,
      "outputs": [
        {
          "output_type": "execute_result",
          "data": {
            "text/plain": [
              "Up      648\n",
              "Down    602\n",
              "Name: Direction, dtype: int64"
            ]
          },
          "metadata": {},
          "execution_count": 5
        }
      ]
    },
    {
      "cell_type": "code",
      "metadata": {
        "colab": {
          "base_uri": "https://localhost:8080/",
          "height": 378
        },
        "id": "RPfNND2XNecL",
        "outputId": "c3b40287-ef3f-4396-cc72-49022501cfa3"
      },
      "source": [
        "# Produce a matrix that contains all the pairwise correlations among the predictors in a dataset. \n",
        "# Remember to exclude the column Direction \n",
        "x_market = Smarket.drop('Direction', axis = 1)\n",
        "Smarket_corr = x_market.corr()\n",
        "plt.figure(figsize = (6,6))\n",
        "sns.heatmap(data=Smarket_corr, cmap=\"YlGnBu\")\n",
        "plt.show()"
      ],
      "execution_count": null,
      "outputs": [
        {
          "output_type": "display_data",
          "data": {
            "image/png": "[encoded data removed]",
            "text/plain": [
              "<Figure size 432x432 with 2 Axes>"
            ]
          },
          "metadata": {
            "needs_background": "light"
          }
        }
      ]
    },
    {
      "cell_type": "code",
      "metadata": {
        "colab": {
          "base_uri": "https://localhost:8080/",
          "height": 299
        },
        "id": "E2Z9YCAgOFlM",
        "outputId": "9a0c8690-08b5-47e8-d687-d4ac7103a7c2"
      },
      "source": [
        "Smarket_corr"
      ],
      "execution_count": null,
      "outputs": [
        {
          "output_type": "execute_result",
          "data": {
            "text/html": [
              "<div>\n",
              "<style scoped>\n",
              "    .dataframe tbody tr th:only-of-type {\n",
              "        vertical-align: middle;\n",
              "    }\n",
              "\n",
              "    .dataframe tbody tr th {\n",
              "        vertical-align: top;\n",
              "    }\n",
              "\n",
              "    .dataframe thead th {\n",
              "        text-align: right;\n",
              "    }\n",
              "</style>\n",
              "<table border=\"1\" class=\"dataframe\">\n",
              "  <thead>\n",
              "    <tr style=\"text-align: right;\">\n",
              "      <th></th>\n",
              "      <th>Year</th>\n",
              "      <th>Lag1</th>\n",
              "      <th>Lag2</th>\n",
              "      <th>Lag3</th>\n",
              "      <th>Lag4</th>\n",
              "      <th>Lag5</th>\n",
              "      <th>Volume</th>\n",
              "      <th>Today</th>\n",
              "    </tr>\n",
              "  </thead>\n",
              "  <tbody>\n",
              "    <tr>\n",
              "      <th>Year</th>\n",
              "      <td>1.000000</td>\n",
              "      <td>0.029700</td>\n",
              "      <td>0.030596</td>\n",
              "      <td>0.033195</td>\n",
              "      <td>0.035689</td>\n",
              "      <td>0.029788</td>\n",
              "      <td>0.539006</td>\n",
              "      <td>0.030095</td>\n",
              "    </tr>\n",
              "    <tr>\n",
              "      <th>Lag1</th>\n",
              "      <td>0.029700</td>\n",
              "      <td>1.000000</td>\n",
              "      <td>-0.026294</td>\n",
              "      <td>-0.010803</td>\n",
              "      <td>-0.002986</td>\n",
              "      <td>-0.005675</td>\n",
              "      <td>0.040910</td>\n",
              "      <td>-0.026155</td>\n",
              "    </tr>\n",
              "    <tr>\n",
              "      <th>Lag2</th>\n",
              "      <td>0.030596</td>\n",
              "      <td>-0.026294</td>\n",
              "      <td>1.000000</td>\n",
              "      <td>-0.025897</td>\n",
              "      <td>-0.010854</td>\n",
              "      <td>-0.003558</td>\n",
              "      <td>-0.043383</td>\n",
              "      <td>-0.010250</td>\n",
              "    </tr>\n",
              "    <tr>\n",
              "      <th>Lag3</th>\n",
              "      <td>0.033195</td>\n",
              "      <td>-0.010803</td>\n",
              "      <td>-0.025897</td>\n",
              "      <td>1.000000</td>\n",
              "      <td>-0.024051</td>\n",
              "      <td>-0.018808</td>\n",
              "      <td>-0.041824</td>\n",
              "      <td>-0.002448</td>\n",
              "    </tr>\n",
              "    <tr>\n",
              "      <th>Lag4</th>\n",
              "      <td>0.035689</td>\n",
              "      <td>-0.002986</td>\n",
              "      <td>-0.010854</td>\n",
              "      <td>-0.024051</td>\n",
              "      <td>1.000000</td>\n",
              "      <td>-0.027084</td>\n",
              "      <td>-0.048414</td>\n",
              "      <td>-0.006900</td>\n",
              "    </tr>\n",
              "    <tr>\n",
              "      <th>Lag5</th>\n",
              "      <td>0.029788</td>\n",
              "      <td>-0.005675</td>\n",
              "      <td>-0.003558</td>\n",
              "      <td>-0.018808</td>\n",
              "      <td>-0.027084</td>\n",
              "      <td>1.000000</td>\n",
              "      <td>-0.022002</td>\n",
              "      <td>-0.034860</td>\n",
              "    </tr>\n",
              "    <tr>\n",
              "      <th>Volume</th>\n",
              "      <td>0.539006</td>\n",
              "      <td>0.040910</td>\n",
              "      <td>-0.043383</td>\n",
              "      <td>-0.041824</td>\n",
              "      <td>-0.048414</td>\n",
              "      <td>-0.022002</td>\n",
              "      <td>1.000000</td>\n",
              "      <td>0.014592</td>\n",
              "    </tr>\n",
              "    <tr>\n",
              "      <th>Today</th>\n",
              "      <td>0.030095</td>\n",
              "      <td>-0.026155</td>\n",
              "      <td>-0.010250</td>\n",
              "      <td>-0.002448</td>\n",
              "      <td>-0.006900</td>\n",
              "      <td>-0.034860</td>\n",
              "      <td>0.014592</td>\n",
              "      <td>1.000000</td>\n",
              "    </tr>\n",
              "  </tbody>\n",
              "</table>\n",
              "</div>"
            ],
            "text/plain": [
              "            Year      Lag1      Lag2  ...      Lag5    Volume     Today\n",
              "Year    1.000000  0.029700  0.030596  ...  0.029788  0.539006  0.030095\n",
              "Lag1    0.029700  1.000000 -0.026294  ... -0.005675  0.040910 -0.026155\n",
              "Lag2    0.030596 -0.026294  1.000000  ... -0.003558 -0.043383 -0.010250\n",
              "Lag3    0.033195 -0.010803 -0.025897  ... -0.018808 -0.041824 -0.002448\n",
              "Lag4    0.035689 -0.002986 -0.010854  ... -0.027084 -0.048414 -0.006900\n",
              "Lag5    0.029788 -0.005675 -0.003558  ...  1.000000 -0.022002 -0.034860\n",
              "Volume  0.539006  0.040910 -0.043383  ... -0.022002  1.000000  0.014592\n",
              "Today   0.030095 -0.026155 -0.010250  ... -0.034860  0.014592  1.000000\n",
              "\n",
              "[8 rows x 8 columns]"
            ]
          },
          "metadata": {},
          "execution_count": 7
        }
      ]
    },
    {
      "cell_type": "markdown",
      "metadata": {
        "id": "j_r1yreYPYXF"
      },
      "source": [
        "- The correlations between the lag variables and today's returns are close to zero OR there are little to no correlation between today's returns and the previous days' returns.\n",
        "- The only substantial correlation is between ``Year`` and ``Volume``"
      ]
    },
    {
      "cell_type": "code",
      "metadata": {
        "colab": {
          "base_uri": "https://localhost:8080/",
          "height": 388
        },
        "id": "geksbTQVPOsp",
        "outputId": "1fb8090f-d925-4c99-e954-d8322db3ffb2"
      },
      "source": [
        "# Let's plot to see the correlation between Year and Volume \n",
        "plt.figure(figsize=(10,6))\n",
        "sns.scatterplot(y = 'Volume', x = Smarket.index, data = Smarket)\n",
        "plt.xlabel('Index')\n",
        "plt.show()"
      ],
      "execution_count": null,
      "outputs": [
        {
          "output_type": "display_data",
          "data": {
            "image/png": "[encoded data removed]",
            "text/plain": [
              "<Figure size 720x432 with 1 Axes>"
            ]
          },
          "metadata": {
            "needs_background": "light"
          }
        }
      ]
    },
    {
      "cell_type": "markdown",
      "metadata": {
        "id": "ctMF8z_pQvLu"
      },
      "source": [
        "Because the data is ordered chronologically, we can see that ``Volume`` is increasing over time"
      ]
    },
    {
      "cell_type": "markdown",
      "metadata": {
        "id": "vc8TJbtYRTx1"
      },
      "source": [
        "# 2. Logistic Regressions "
      ]
    },
    {
      "cell_type": "markdown",
      "metadata": {
        "id": "omfjxfB5RX92"
      },
      "source": [
        "Let's try fitting a Logistic Regression model in order to predict ``Direction`` using ``Lag1`` to ``Lag5`` and ``Volume``. "
      ]
    },
    {
      "cell_type": "code",
      "metadata": {
        "id": "pfdBDi0GQX56"
      },
      "source": [
        "X = sm.add_constant(Smarket.drop(['Year','Direction','Today'], axis = 1))\n",
        "y = Smarket['Direction']"
      ],
      "execution_count": null,
      "outputs": []
    },
    {
      "cell_type": "code",
      "metadata": {
        "id": "kLYO0NwCXBje"
      },
      "source": [
        "# Since y is 'Up' and 'Down' OR object type -> need to change this to a 0-1 label \n",
        "y = y.apply(lambda x: 0 if x == 'Down' else 1)"
      ],
      "execution_count": null,
      "outputs": []
    },
    {
      "cell_type": "code",
      "metadata": {
        "colab": {
          "base_uri": "https://localhost:8080/",
          "height": 396
        },
        "id": "poYNnqOcR58u",
        "outputId": "9b138d33-2972-400a-e58f-3632f2144325"
      },
      "source": [
        "# Fitting the data to Logistic Regression model\n",
        "lr = sm.GLM(y, X, family = sm.families.Binomial()).fit()\n",
        "lr.summary()"
      ],
      "execution_count": null,
      "outputs": [
        {
          "output_type": "execute_result",
          "data": {
            "text/html": [
              "<table class=\"simpletable\">\n",
              "<caption>Generalized Linear Model Regression Results</caption>\n",
              "<tr>\n",
              "  <th>Dep. Variable:</th>       <td>Direction</td>    <th>  No. Observations:  </th>  <td>  1250</td> \n",
              "</tr>\n",
              "<tr>\n",
              "  <th>Model:</th>                  <td>GLM</td>       <th>  Df Residuals:      </th>  <td>  1243</td> \n",
              "</tr>\n",
              "<tr>\n",
              "  <th>Model Family:</th>        <td>Binomial</td>     <th>  Df Model:          </th>  <td>     6</td> \n",
              "</tr>\n",
              "<tr>\n",
              "  <th>Link Function:</th>         <td>logit</td>      <th>  Scale:             </th> <td>  1.0000</td>\n",
              "</tr>\n",
              "<tr>\n",
              "  <th>Method:</th>                <td>IRLS</td>       <th>  Log-Likelihood:    </th> <td> -863.79</td>\n",
              "</tr>\n",
              "<tr>\n",
              "  <th>Date:</th>            <td>Tue, 14 Sep 2021</td> <th>  Deviance:          </th> <td>  1727.6</td>\n",
              "</tr>\n",
              "<tr>\n",
              "  <th>Time:</th>                <td>13:10:20</td>     <th>  Pearson chi2:      </th> <td>1.25e+03</td>\n",
              "</tr>\n",
              "<tr>\n",
              "  <th>No. Iterations:</th>          <td>4</td>        <th>                     </th>     <td> </td>   \n",
              "</tr>\n",
              "<tr>\n",
              "  <th>Covariance Type:</th>     <td>nonrobust</td>    <th>                     </th>     <td> </td>   \n",
              "</tr>\n",
              "</table>\n",
              "<table class=\"simpletable\">\n",
              "<tr>\n",
              "     <td></td>       <th>coef</th>     <th>std err</th>      <th>z</th>      <th>P>|z|</th>  <th>[0.025</th>    <th>0.975]</th>  \n",
              "</tr>\n",
              "<tr>\n",
              "  <th>const</th>  <td>   -0.1260</td> <td>    0.241</td> <td>   -0.523</td> <td> 0.601</td> <td>   -0.598</td> <td>    0.346</td>\n",
              "</tr>\n",
              "<tr>\n",
              "  <th>Lag1</th>   <td>   -0.0731</td> <td>    0.050</td> <td>   -1.457</td> <td> 0.145</td> <td>   -0.171</td> <td>    0.025</td>\n",
              "</tr>\n",
              "<tr>\n",
              "  <th>Lag2</th>   <td>   -0.0423</td> <td>    0.050</td> <td>   -0.845</td> <td> 0.398</td> <td>   -0.140</td> <td>    0.056</td>\n",
              "</tr>\n",
              "<tr>\n",
              "  <th>Lag3</th>   <td>    0.0111</td> <td>    0.050</td> <td>    0.222</td> <td> 0.824</td> <td>   -0.087</td> <td>    0.109</td>\n",
              "</tr>\n",
              "<tr>\n",
              "  <th>Lag4</th>   <td>    0.0094</td> <td>    0.050</td> <td>    0.187</td> <td> 0.851</td> <td>   -0.089</td> <td>    0.107</td>\n",
              "</tr>\n",
              "<tr>\n",
              "  <th>Lag5</th>   <td>    0.0103</td> <td>    0.050</td> <td>    0.208</td> <td> 0.835</td> <td>   -0.087</td> <td>    0.107</td>\n",
              "</tr>\n",
              "<tr>\n",
              "  <th>Volume</th> <td>    0.1354</td> <td>    0.158</td> <td>    0.855</td> <td> 0.392</td> <td>   -0.175</td> <td>    0.446</td>\n",
              "</tr>\n",
              "</table>"
            ],
            "text/plain": [
              "<class 'statsmodels.iolib.summary.Summary'>\n",
              "\"\"\"\n",
              "                 Generalized Linear Model Regression Results                  \n",
              "==============================================================================\n",
              "Dep. Variable:              Direction   No. Observations:                 1250\n",
              "Model:                            GLM   Df Residuals:                     1243\n",
              "Model Family:                Binomial   Df Model:                            6\n",
              "Link Function:                  logit   Scale:                          1.0000\n",
              "Method:                          IRLS   Log-Likelihood:                -863.79\n",
              "Date:                Tue, 14 Sep 2021   Deviance:                       1727.6\n",
              "Time:                        13:10:20   Pearson chi2:                 1.25e+03\n",
              "No. Iterations:                     4                                         \n",
              "Covariance Type:            nonrobust                                         \n",
              "==============================================================================\n",
              "                 coef    std err          z      P>|z|      [0.025      0.975]\n",
              "------------------------------------------------------------------------------\n",
              "const         -0.1260      0.241     -0.523      0.601      -0.598       0.346\n",
              "Lag1          -0.0731      0.050     -1.457      0.145      -0.171       0.025\n",
              "Lag2          -0.0423      0.050     -0.845      0.398      -0.140       0.056\n",
              "Lag3           0.0111      0.050      0.222      0.824      -0.087       0.109\n",
              "Lag4           0.0094      0.050      0.187      0.851      -0.089       0.107\n",
              "Lag5           0.0103      0.050      0.208      0.835      -0.087       0.107\n",
              "Volume         0.1354      0.158      0.855      0.392      -0.175       0.446\n",
              "==============================================================================\n",
              "\"\"\""
            ]
          },
          "metadata": {},
          "execution_count": 11
        }
      ]
    },
    {
      "cell_type": "markdown",
      "metadata": {
        "id": "1hZvLJ5RhAp0"
      },
      "source": [
        "The smallest p-value associated with ``Lag1``. \n",
        "\n",
        "**How to intepret the result**\n",
        "The negative coefficient of ``Lag1`` means that if the market had a positive return yesterday then it is less likely to go Up to day.\n",
        "\n",
        "But the p-value of 0.15 is quite high -> Fail to reject the null hypothesis that there is no clear evidence of a real association between ``Lag1`` and ``Direction.``"
      ]
    },
    {
      "cell_type": "markdown",
      "metadata": {
        "id": "tauXYgtUm9q5"
      },
      "source": [
        "Predict the first 10 probabilities. "
      ]
    },
    {
      "cell_type": "code",
      "metadata": {
        "colab": {
          "base_uri": "https://localhost:8080/"
        },
        "id": "U4X-19n_SYHt",
        "outputId": "fe716162-c506-4ce2-8c65-e56d11e021e0"
      },
      "source": [
        "xtest = sm.add_constant(Smarket.drop(['Year','Direction','Today'], axis = 1).head(10))\n",
        "pred = lr.predict(xtest)\n",
        "pred"
      ],
      "execution_count": null,
      "outputs": [
        {
          "output_type": "execute_result",
          "data": {
            "text/plain": [
              "1     0.507084\n",
              "2     0.481468\n",
              "3     0.481139\n",
              "4     0.515222\n",
              "5     0.510781\n",
              "6     0.506956\n",
              "7     0.492651\n",
              "8     0.509229\n",
              "9     0.517614\n",
              "10    0.488838\n",
              "dtype: float64"
            ]
          },
          "metadata": {},
          "execution_count": 12
        }
      ]
    },
    {
      "cell_type": "markdown",
      "metadata": {
        "id": "GHGPxTXAqtsl"
      },
      "source": [
        "The values correspond to the probability of the market going ``Up`` or ``Down``. \n",
        "\n",
        "In order to make a prediction as to whether the market will go ``Up`` or ``Down``, let's convert these into class labels."
      ]
    },
    {
      "cell_type": "code",
      "metadata": {
        "id": "2BD5SVgzoQO7"
      },
      "source": [
        "pred = lr.predict(sm.add_constant(Smarket.drop(['Year','Direction','Today'], axis = 1)))\n",
        "pred = pred.apply(lambda x: 'Up' if x > 0.5 else 'Down')"
      ],
      "execution_count": null,
      "outputs": []
    },
    {
      "cell_type": "markdown",
      "metadata": {
        "id": "R2tX8d2srjwr"
      },
      "source": [
        "Calculate a confusion matrix. \n",
        "\n",
        "|TN|FP|\n",
        "|--|--|\n",
        "|FN|TP|"
      ]
    },
    {
      "cell_type": "code",
      "metadata": {
        "colab": {
          "base_uri": "https://localhost:8080/"
        },
        "id": "qUDEA0eordRW",
        "outputId": "f0404e5e-d4ac-4889-9c6d-24098f027154"
      },
      "source": [
        "confusion_matrix(Smarket['Direction'], pred)"
      ],
      "execution_count": null,
      "outputs": [
        {
          "output_type": "execute_result",
          "data": {
            "text/plain": [
              "array([[145, 457],\n",
              "       [141, 507]])"
            ]
          },
          "metadata": {},
          "execution_count": 14
        }
      ]
    },
    {
      "cell_type": "markdown",
      "metadata": {
        "id": "wqJEfM0zuSQd"
      },
      "source": [
        "The diagonal elements of the confusion matrix indicate correct predictions, while the off-diagonal represent incorrect predictions. \n",
        "\n",
        "Our model correctly predicted 652 rows, which is 52.2% of the time. This means that the training error is 47.8%. \n",
        "\n",
        "Test out new data on our model to see how well it does on unseen data."
      ]
    },
    {
      "cell_type": "markdown",
      "metadata": {
        "id": "LqVUCHmnvc-0"
      },
      "source": [
        "Train a new model using only training data from 2001-2004 and held out data observations from 2005."
      ]
    },
    {
      "cell_type": "code",
      "metadata": {
        "id": "3l-unlG6s4jO"
      },
      "source": [
        "xtrain = Smarket[Smarket['Year'] < 2005]\n",
        "xtrain = xtrain.drop(['Year','Direction','Today'], axis = 1)\n",
        "xtrain = sm.add_constant(xtrain)"
      ],
      "execution_count": null,
      "outputs": []
    },
    {
      "cell_type": "code",
      "metadata": {
        "id": "CoR12f6rwI5b",
        "colab": {
          "base_uri": "https://localhost:8080/"
        },
        "outputId": "06139b91-4082-42c6-aed3-eade15635237"
      },
      "source": [
        "ytrain = Smarket[Smarket['Year'] < 2005]['Direction']\n",
        "ytrain = ytrain.apply(lambda x: 0 if x == 'Down' else 1)\n",
        "ytrain"
      ],
      "execution_count": null,
      "outputs": [
        {
          "output_type": "execute_result",
          "data": {
            "text/plain": [
              "1      1\n",
              "2      1\n",
              "3      0\n",
              "4      1\n",
              "5      1\n",
              "      ..\n",
              "994    0\n",
              "995    1\n",
              "996    0\n",
              "997    1\n",
              "998    0\n",
              "Name: Direction, Length: 998, dtype: int64"
            ]
          },
          "metadata": {},
          "execution_count": 21
        }
      ]
    },
    {
      "cell_type": "code",
      "metadata": {
        "colab": {
          "base_uri": "https://localhost:8080/",
          "height": 396
        },
        "id": "V1LhHo-qwUMi",
        "outputId": "914ea6c2-2c73-4cba-b578-39db4e6479c0"
      },
      "source": [
        "lr2 = sm.GLM(ytrain, xtrain, family=sm.families.Binomial()).fit()\n",
        "lr2.summary()"
      ],
      "execution_count": null,
      "outputs": [
        {
          "output_type": "execute_result",
          "data": {
            "text/html": [
              "<table class=\"simpletable\">\n",
              "<caption>Generalized Linear Model Regression Results</caption>\n",
              "<tr>\n",
              "  <th>Dep. Variable:</th>       <td>Direction</td>    <th>  No. Observations:  </th>  <td>   998</td> \n",
              "</tr>\n",
              "<tr>\n",
              "  <th>Model:</th>                  <td>GLM</td>       <th>  Df Residuals:      </th>  <td>   991</td> \n",
              "</tr>\n",
              "<tr>\n",
              "  <th>Model Family:</th>        <td>Binomial</td>     <th>  Df Model:          </th>  <td>     6</td> \n",
              "</tr>\n",
              "<tr>\n",
              "  <th>Link Function:</th>         <td>logit</td>      <th>  Scale:             </th> <td>  1.0000</td>\n",
              "</tr>\n",
              "<tr>\n",
              "  <th>Method:</th>                <td>IRLS</td>       <th>  Log-Likelihood:    </th> <td> -690.55</td>\n",
              "</tr>\n",
              "<tr>\n",
              "  <th>Date:</th>            <td>Tue, 14 Sep 2021</td> <th>  Deviance:          </th> <td>  1381.1</td>\n",
              "</tr>\n",
              "<tr>\n",
              "  <th>Time:</th>                <td>13:20:39</td>     <th>  Pearson chi2:      </th>  <td>  998.</td> \n",
              "</tr>\n",
              "<tr>\n",
              "  <th>No. Iterations:</th>          <td>4</td>        <th>                     </th>     <td> </td>   \n",
              "</tr>\n",
              "<tr>\n",
              "  <th>Covariance Type:</th>     <td>nonrobust</td>    <th>                     </th>     <td> </td>   \n",
              "</tr>\n",
              "</table>\n",
              "<table class=\"simpletable\">\n",
              "<tr>\n",
              "     <td></td>       <th>coef</th>     <th>std err</th>      <th>z</th>      <th>P>|z|</th>  <th>[0.025</th>    <th>0.975]</th>  \n",
              "</tr>\n",
              "<tr>\n",
              "  <th>const</th>  <td>    0.1912</td> <td>    0.334</td> <td>    0.573</td> <td> 0.567</td> <td>   -0.463</td> <td>    0.845</td>\n",
              "</tr>\n",
              "<tr>\n",
              "  <th>Lag1</th>   <td>   -0.0542</td> <td>    0.052</td> <td>   -1.046</td> <td> 0.295</td> <td>   -0.156</td> <td>    0.047</td>\n",
              "</tr>\n",
              "<tr>\n",
              "  <th>Lag2</th>   <td>   -0.0458</td> <td>    0.052</td> <td>   -0.884</td> <td> 0.377</td> <td>   -0.147</td> <td>    0.056</td>\n",
              "</tr>\n",
              "<tr>\n",
              "  <th>Lag3</th>   <td>    0.0072</td> <td>    0.052</td> <td>    0.139</td> <td> 0.889</td> <td>   -0.094</td> <td>    0.108</td>\n",
              "</tr>\n",
              "<tr>\n",
              "  <th>Lag4</th>   <td>    0.0064</td> <td>    0.052</td> <td>    0.125</td> <td> 0.901</td> <td>   -0.095</td> <td>    0.108</td>\n",
              "</tr>\n",
              "<tr>\n",
              "  <th>Lag5</th>   <td>   -0.0042</td> <td>    0.051</td> <td>   -0.083</td> <td> 0.934</td> <td>   -0.104</td> <td>    0.096</td>\n",
              "</tr>\n",
              "<tr>\n",
              "  <th>Volume</th> <td>   -0.1163</td> <td>    0.240</td> <td>   -0.485</td> <td> 0.628</td> <td>   -0.586</td> <td>    0.353</td>\n",
              "</tr>\n",
              "</table>"
            ],
            "text/plain": [
              "<class 'statsmodels.iolib.summary.Summary'>\n",
              "\"\"\"\n",
              "                 Generalized Linear Model Regression Results                  \n",
              "==============================================================================\n",
              "Dep. Variable:              Direction   No. Observations:                  998\n",
              "Model:                            GLM   Df Residuals:                      991\n",
              "Model Family:                Binomial   Df Model:                            6\n",
              "Link Function:                  logit   Scale:                          1.0000\n",
              "Method:                          IRLS   Log-Likelihood:                -690.55\n",
              "Date:                Tue, 14 Sep 2021   Deviance:                       1381.1\n",
              "Time:                        13:20:39   Pearson chi2:                     998.\n",
              "No. Iterations:                     4                                         \n",
              "Covariance Type:            nonrobust                                         \n",
              "==============================================================================\n",
              "                 coef    std err          z      P>|z|      [0.025      0.975]\n",
              "------------------------------------------------------------------------------\n",
              "const          0.1912      0.334      0.573      0.567      -0.463       0.845\n",
              "Lag1          -0.0542      0.052     -1.046      0.295      -0.156       0.047\n",
              "Lag2          -0.0458      0.052     -0.884      0.377      -0.147       0.056\n",
              "Lag3           0.0072      0.052      0.139      0.889      -0.094       0.108\n",
              "Lag4           0.0064      0.052      0.125      0.901      -0.095       0.108\n",
              "Lag5          -0.0042      0.051     -0.083      0.934      -0.104       0.096\n",
              "Volume        -0.1163      0.240     -0.485      0.628      -0.586       0.353\n",
              "==============================================================================\n",
              "\"\"\""
            ]
          },
          "metadata": {},
          "execution_count": 26
        }
      ]
    },
    {
      "cell_type": "code",
      "metadata": {
        "id": "izpEKEOyxL1W"
      },
      "source": [
        "xtest = Smarket[Smarket['Year'] == 2005]\n",
        "xtest = xtest.drop(['Year','Direction','Today'], axis = 1)\n",
        "xtest = sm.add_constant(xtest)"
      ],
      "execution_count": null,
      "outputs": []
    },
    {
      "cell_type": "code",
      "metadata": {
        "id": "E7RuZkbEeE8-"
      },
      "source": [
        "ytest = Smarket[Smarket['Year'] == 2005]['Direction']"
      ],
      "execution_count": null,
      "outputs": []
    },
    {
      "cell_type": "code",
      "metadata": {
        "id": "Eb9o3GSQeL_F"
      },
      "source": [
        "ypredtest = lr2.predict(xtest)\n",
        "ypredtest = ypredtest.apply(lambda x: 'Up' if x > 0.5 else 'Down')"
      ],
      "execution_count": null,
      "outputs": []
    },
    {
      "cell_type": "code",
      "metadata": {
        "colab": {
          "base_uri": "https://localhost:8080/"
        },
        "id": "HFrKLSYmeblK",
        "outputId": "2245b923-6cac-4eeb-fab1-3a737303e842"
      },
      "source": [
        "confusion_matrix(ytest, ypredtest)"
      ],
      "execution_count": null,
      "outputs": [
        {
          "output_type": "execute_result",
          "data": {
            "text/plain": [
              "array([[77, 34],\n",
              "       [97, 44]])"
            ]
          },
          "metadata": {},
          "execution_count": 44
        }
      ]
    },
    {
      "cell_type": "markdown",
      "metadata": {
        "id": "rrw2vHbCg1aG"
      },
      "source": [
        "The test error rate is 52%, which is worse than random guessing. \n",
        "\n",
        "This is not unexpected, as we can see from the previous LR, all the p-values are quite high and the smallest is ``Lag1``. \n",
        "\n",
        "This means that we should remove the variables that appear to not be helpful in predicting ``Direction``. Remember using predictors that have no relationship with the response will tend to increase the variance without a corresponding decrease in bias. Which means the response will tends to deteriorate in the test error rate. "
      ]
    },
    {
      "cell_type": "markdown",
      "metadata": {
        "id": "0hft4Z1Qiboa"
      },
      "source": [
        "Looking back at the original Logistic Regression model, ``Lag1`` and ``Lag2`` which seemed to have the highest predictive power. "
      ]
    },
    {
      "cell_type": "code",
      "metadata": {
        "id": "hr__eHVLggsV"
      },
      "source": [
        "xtrain1 = Smarket[Smarket['Year'] < 2005]\n",
        "xtrain1 = xtrain1[['Lag1', 'Lag2']]\n",
        "xtrain1 = sm.add_constant(xtrain1)"
      ],
      "execution_count": null,
      "outputs": []
    },
    {
      "cell_type": "code",
      "metadata": {
        "colab": {
          "base_uri": "https://localhost:8080/",
          "height": 312
        },
        "id": "Rb1ZgMD9jLz6",
        "outputId": "006a5e45-b747-4af1-aad9-a720a064786a"
      },
      "source": [
        "lr3 = sm.GLM(ytrain, xtrain1, family=sm.families.Binomial()).fit()\n",
        "lr3.summary()"
      ],
      "execution_count": null,
      "outputs": [
        {
          "output_type": "execute_result",
          "data": {
            "text/html": [
              "<table class=\"simpletable\">\n",
              "<caption>Generalized Linear Model Regression Results</caption>\n",
              "<tr>\n",
              "  <th>Dep. Variable:</th>       <td>Direction</td>    <th>  No. Observations:  </th>  <td>   998</td> \n",
              "</tr>\n",
              "<tr>\n",
              "  <th>Model:</th>                  <td>GLM</td>       <th>  Df Residuals:      </th>  <td>   995</td> \n",
              "</tr>\n",
              "<tr>\n",
              "  <th>Model Family:</th>        <td>Binomial</td>     <th>  Df Model:          </th>  <td>     2</td> \n",
              "</tr>\n",
              "<tr>\n",
              "  <th>Link Function:</th>         <td>logit</td>      <th>  Scale:             </th> <td>  1.0000</td>\n",
              "</tr>\n",
              "<tr>\n",
              "  <th>Method:</th>                <td>IRLS</td>       <th>  Log-Likelihood:    </th> <td> -690.70</td>\n",
              "</tr>\n",
              "<tr>\n",
              "  <th>Date:</th>            <td>Tue, 14 Sep 2021</td> <th>  Deviance:          </th> <td>  1381.4</td>\n",
              "</tr>\n",
              "<tr>\n",
              "  <th>Time:</th>                <td>13:45:01</td>     <th>  Pearson chi2:      </th>  <td>  998.</td> \n",
              "</tr>\n",
              "<tr>\n",
              "  <th>No. Iterations:</th>          <td>4</td>        <th>                     </th>     <td> </td>   \n",
              "</tr>\n",
              "<tr>\n",
              "  <th>Covariance Type:</th>     <td>nonrobust</td>    <th>                     </th>     <td> </td>   \n",
              "</tr>\n",
              "</table>\n",
              "<table class=\"simpletable\">\n",
              "<tr>\n",
              "    <td></td>       <th>coef</th>     <th>std err</th>      <th>z</th>      <th>P>|z|</th>  <th>[0.025</th>    <th>0.975]</th>  \n",
              "</tr>\n",
              "<tr>\n",
              "  <th>const</th> <td>    0.0322</td> <td>    0.063</td> <td>    0.508</td> <td> 0.611</td> <td>   -0.092</td> <td>    0.156</td>\n",
              "</tr>\n",
              "<tr>\n",
              "  <th>Lag1</th>  <td>   -0.0556</td> <td>    0.052</td> <td>   -1.076</td> <td> 0.282</td> <td>   -0.157</td> <td>    0.046</td>\n",
              "</tr>\n",
              "<tr>\n",
              "  <th>Lag2</th>  <td>   -0.0445</td> <td>    0.052</td> <td>   -0.861</td> <td> 0.389</td> <td>   -0.146</td> <td>    0.057</td>\n",
              "</tr>\n",
              "</table>"
            ],
            "text/plain": [
              "<class 'statsmodels.iolib.summary.Summary'>\n",
              "\"\"\"\n",
              "                 Generalized Linear Model Regression Results                  \n",
              "==============================================================================\n",
              "Dep. Variable:              Direction   No. Observations:                  998\n",
              "Model:                            GLM   Df Residuals:                      995\n",
              "Model Family:                Binomial   Df Model:                            2\n",
              "Link Function:                  logit   Scale:                          1.0000\n",
              "Method:                          IRLS   Log-Likelihood:                -690.70\n",
              "Date:                Tue, 14 Sep 2021   Deviance:                       1381.4\n",
              "Time:                        13:45:01   Pearson chi2:                     998.\n",
              "No. Iterations:                     4                                         \n",
              "Covariance Type:            nonrobust                                         \n",
              "==============================================================================\n",
              "                 coef    std err          z      P>|z|      [0.025      0.975]\n",
              "------------------------------------------------------------------------------\n",
              "const          0.0322      0.063      0.508      0.611      -0.092       0.156\n",
              "Lag1          -0.0556      0.052     -1.076      0.282      -0.157       0.046\n",
              "Lag2          -0.0445      0.052     -0.861      0.389      -0.146       0.057\n",
              "==============================================================================\n",
              "\"\"\""
            ]
          },
          "metadata": {},
          "execution_count": 48
        }
      ]
    },
    {
      "cell_type": "code",
      "metadata": {
        "id": "u1NerhFkjR1_"
      },
      "source": [
        "xtest1 = Smarket[Smarket['Year'] == 2005]\n",
        "xtest1 = xtest1[['Lag1', 'Lag2']]\n",
        "xtest1 = sm.add_constant(xtest1)"
      ],
      "execution_count": null,
      "outputs": []
    },
    {
      "cell_type": "code",
      "metadata": {
        "id": "kz5eEQY7jmjg"
      },
      "source": [
        "ypredtest1 = lr3.predict(xtest1)\n",
        "ypredtest1 = ypredtest1.apply(lambda x: 'Up' if x > 0.5 else 'Down')"
      ],
      "execution_count": null,
      "outputs": []
    },
    {
      "cell_type": "code",
      "metadata": {
        "colab": {
          "base_uri": "https://localhost:8080/"
        },
        "id": "fV0sn96ujrgk",
        "outputId": "d7613628-608f-4cec-809b-6bbc721ce3f6"
      },
      "source": [
        "confusion_matrix(ytest,ypredtest1)"
      ],
      "execution_count": null,
      "outputs": [
        {
          "output_type": "execute_result",
          "data": {
            "text/plain": [
              "array([[ 35,  76],\n",
              "       [ 35, 106]])"
            ]
          },
          "metadata": {},
          "execution_count": 52
        }
      ]
    },
    {
      "cell_type": "markdown",
      "metadata": {
        "id": "Pi94xYGlkwUG"
      },
      "source": [
        "The results appear to be a bit better: 56% of the daily movements have been correctly predicted."
      ]
    },
    {
      "cell_type": "markdown",
      "metadata": {
        "id": "i8IBotonmpJr"
      },
      "source": [
        "# 3. Linear Discriminant Analysis "
      ]
    },
    {
      "cell_type": "code",
      "metadata": {
        "id": "qIwlE-MxpZFA"
      },
      "source": [
        "xtrain2 = Smarket[Smarket['Year'] < 2005]\n",
        "xtrain2 = xtrain1[['Lag1', 'Lag2']]"
      ],
      "execution_count": null,
      "outputs": []
    },
    {
      "cell_type": "code",
      "metadata": {
        "colab": {
          "base_uri": "https://localhost:8080/"
        },
        "id": "QJjmmkwlksyM",
        "outputId": "3014c1d7-9b7a-4c3e-f1c3-b2f6a8433e7c"
      },
      "source": [
        "lda = sklearn.discriminant_analysis.LinearDiscriminantAnalysis()\n",
        "lda.fit(xtrain2,ytrain)"
      ],
      "execution_count": null,
      "outputs": [
        {
          "output_type": "execute_result",
          "data": {
            "text/plain": [
              "LinearDiscriminantAnalysis(n_components=None, priors=None, shrinkage=None,\n",
              "                           solver='svd', store_covariance=False, tol=0.0001)"
            ]
          },
          "metadata": {},
          "execution_count": 58
        }
      ]
    },
    {
      "cell_type": "code",
      "metadata": {
        "colab": {
          "base_uri": "https://localhost:8080/"
        },
        "id": "O8RS51yxq32W",
        "outputId": "3a0a4a20-67d1-4b13-c9bb-c039155b632d"
      },
      "source": [
        "# Print out the coefficient \n",
        "lda.coef_"
      ],
      "execution_count": null,
      "outputs": [
        {
          "output_type": "execute_result",
          "data": {
            "text/plain": [
              "array([[-0.05544078, -0.0443452 ]])"
            ]
          },
          "metadata": {},
          "execution_count": 69
        }
      ]
    },
    {
      "cell_type": "markdown",
      "metadata": {
        "id": "62uz8-Y3rX2L"
      },
      "source": [
        "The LDA coefficient indicates that for the previous 2 days' returns to be negativve on days when the market increases and a tendency for the previous days' returns to be positive on days when market declines. \n",
        "\n",
        "The coefficients of linear discriminants output provides the linear combination of ``Lag1`` and ``Lag2`` that are used to form the LDA decision rule."
      ]
    },
    {
      "cell_type": "code",
      "metadata": {
        "id": "_Oj1Y_8Lp7qc"
      },
      "source": [
        "xtest2 = Smarket[Smarket['Year'] == 2005]\n",
        "xtest2 = xtest1[['Lag1', 'Lag2']]"
      ],
      "execution_count": null,
      "outputs": []
    },
    {
      "cell_type": "code",
      "metadata": {
        "id": "hEX6ouiGpfgv"
      },
      "source": [
        "ypredtest2 = lda.predict(xtest2)"
      ],
      "execution_count": null,
      "outputs": []
    },
    {
      "cell_type": "code",
      "metadata": {
        "id": "2g8sml8MqV9O"
      },
      "source": [
        "ytest2 = ytest.apply(lambda x: 0 if x == 'Down' else 1)"
      ],
      "execution_count": null,
      "outputs": []
    },
    {
      "cell_type": "code",
      "metadata": {
        "colab": {
          "base_uri": "https://localhost:8080/"
        },
        "id": "Ix0i4Z0qp-xb",
        "outputId": "c76ac026-1733-4421-cb5e-30b1ed151c31"
      },
      "source": [
        "confusion_matrix(ytest2,ypredtest2)"
      ],
      "execution_count": null,
      "outputs": [
        {
          "output_type": "execute_result",
          "data": {
            "text/plain": [
              "array([[ 35,  76],\n",
              "       [ 35, 106]])"
            ]
          },
          "metadata": {},
          "execution_count": 66
        }
      ]
    },
    {
      "cell_type": "markdown",
      "metadata": {
        "id": "iU-qHHNntIDx"
      },
      "source": [
        "The LDA and logistic regression predictions made on this test set is almost identical."
      ]
    },
    {
      "cell_type": "markdown",
      "metadata": {
        "id": "36BsCiVGtkoT"
      },
      "source": [
        "# 4. Quadratic Discriminant Analysis"
      ]
    },
    {
      "cell_type": "code",
      "metadata": {
        "colab": {
          "base_uri": "https://localhost:8080/"
        },
        "id": "cEB0uLxyqI6r",
        "outputId": "c0195c0c-b803-4004-bb76-a3270cedc409"
      },
      "source": [
        "qda = sklearn.discriminant_analysis.QuadraticDiscriminantAnalysis()\n",
        "qda.fit(xtrain2,ytrain)"
      ],
      "execution_count": null,
      "outputs": [
        {
          "output_type": "execute_result",
          "data": {
            "text/plain": [
              "QuadraticDiscriminantAnalysis(priors=None, reg_param=0.0,\n",
              "                              store_covariance=False, tol=0.0001)"
            ]
          },
          "metadata": {},
          "execution_count": 70
        }
      ]
    },
    {
      "cell_type": "code",
      "metadata": {
        "id": "GFRbC6CKuFpa"
      },
      "source": [
        "ypredtest3 = qda.predict(xtest2)"
      ],
      "execution_count": null,
      "outputs": []
    },
    {
      "cell_type": "code",
      "metadata": {
        "colab": {
          "base_uri": "https://localhost:8080/"
        },
        "id": "IzI0lVwnvIEv",
        "outputId": "905666db-9ad2-45f2-c1a5-0f65f81eb715"
      },
      "source": [
        "confusion_matrix(ytest2,ypredtest3)"
      ],
      "execution_count": null,
      "outputs": [
        {
          "output_type": "execute_result",
          "data": {
            "text/plain": [
              "array([[ 30,  81],\n",
              "       [ 20, 121]])"
            ]
          },
          "metadata": {},
          "execution_count": 73
        }
      ]
    },
    {
      "cell_type": "markdown",
      "metadata": {
        "id": "uSE3Np69vOsm"
      },
      "source": [
        "The QDA predictions are accurate almost 60% of the time, even though the 2005 data was not used to fit the model. This suggest that the QDA model can capture the true relationship more accurately than the linear forms assumed by LDA and logistic regression. "
      ]
    },
    {
      "cell_type": "markdown",
      "metadata": {
        "id": "RNiK5sHfv2-D"
      },
      "source": [
        "# 5. Naive Bayes "
      ]
    },
    {
      "cell_type": "code",
      "metadata": {
        "colab": {
          "base_uri": "https://localhost:8080/"
        },
        "id": "E36tm1PLvLqZ",
        "outputId": "eff4d8fc-799d-495a-c857-a951cb1042c6"
      },
      "source": [
        "nb = GaussianNB()\n",
        "nb.fit(xtrain2,ytrain)"
      ],
      "execution_count": null,
      "outputs": [
        {
          "output_type": "execute_result",
          "data": {
            "text/plain": [
              "GaussianNB(priors=None, var_smoothing=1e-09)"
            ]
          },
          "metadata": {},
          "execution_count": 80
        }
      ]
    },
    {
      "cell_type": "code",
      "metadata": {
        "id": "HeA2NSEsylVz"
      },
      "source": [
        "ypredtest4 = nb.predict(xtest2)"
      ],
      "execution_count": null,
      "outputs": []
    },
    {
      "cell_type": "code",
      "metadata": {
        "colab": {
          "base_uri": "https://localhost:8080/"
        },
        "id": "fzDvFTFq3eL-",
        "outputId": "c9301acb-a98b-4b0f-e5b5-0411093a81a6"
      },
      "source": [
        "confusion_matrix(ytest2,ypredtest4)"
      ],
      "execution_count": null,
      "outputs": [
        {
          "output_type": "execute_result",
          "data": {
            "text/plain": [
              "array([[ 29,  82],\n",
              "       [ 20, 121]])"
            ]
          },
          "metadata": {},
          "execution_count": 82
        }
      ]
    },
    {
      "cell_type": "markdown",
      "metadata": {
        "id": "KFiQB3gw37zs"
      },
      "source": [
        "Naive Bayes performs well on this data, with accurate predictions over 59% of the time, but a little bit worse than QDA. "
      ]
    },
    {
      "cell_type": "markdown",
      "metadata": {
        "id": "TvpQsKgx4r0W"
      },
      "source": [
        "# 5. K-Nearest Neighbors"
      ]
    },
    {
      "cell_type": "code",
      "metadata": {
        "colab": {
          "base_uri": "https://localhost:8080/"
        },
        "id": "szSjQGYG3ghO",
        "outputId": "d85c5ca9-e010-4bec-e69e-744cfa389e50"
      },
      "source": [
        "# First, test with n_neignbors = 1\n",
        "knn1 = sklearn.neighbors.KNeighborsClassifier(n_neighbors=1)\n",
        "knn1.fit(xtrain2, ytrain)"
      ],
      "execution_count": null,
      "outputs": [
        {
          "output_type": "execute_result",
          "data": {
            "text/plain": [
              "KNeighborsClassifier(algorithm='auto', leaf_size=30, metric='minkowski',\n",
              "                     metric_params=None, n_jobs=None, n_neighbors=1, p=2,\n",
              "                     weights='uniform')"
            ]
          },
          "metadata": {},
          "execution_count": 87
        }
      ]
    },
    {
      "cell_type": "code",
      "metadata": {
        "id": "bmiWYJCY56SJ"
      },
      "source": [
        "ypredtest5 = knn1.predict(xtest2)"
      ],
      "execution_count": null,
      "outputs": []
    },
    {
      "cell_type": "code",
      "metadata": {
        "colab": {
          "base_uri": "https://localhost:8080/"
        },
        "id": "PQIbVvW46PlJ",
        "outputId": "aa71cf5d-eb90-44bd-fe84-c4a7d7f487e0"
      },
      "source": [
        "confusion_matrix(ytest2,ypredtest5)"
      ],
      "execution_count": null,
      "outputs": [
        {
          "output_type": "execute_result",
          "data": {
            "text/plain": [
              "array([[43, 68],\n",
              "       [58, 83]])"
            ]
          },
          "metadata": {},
          "execution_count": 89
        }
      ]
    },
    {
      "cell_type": "markdown",
      "metadata": {
        "id": "EiwC_BRh6ejW"
      },
      "source": [
        "The result is not very good since only 50% of the observations are correctly predicted. It should be because that n_neighbors = 1 results in an overly flexible fit to the data."
      ]
    },
    {
      "cell_type": "code",
      "metadata": {
        "colab": {
          "base_uri": "https://localhost:8080/"
        },
        "id": "o07FlmRu6RqB",
        "outputId": "8c1ebd69-5bd5-4cb8-aa1c-40cf1fc1296c"
      },
      "source": [
        "# Repeat the analysis with n_neighbors = 3\n",
        "knn2 = sklearn.neighbors.KNeighborsClassifier(n_neighbors=3)\n",
        "knn2.fit(xtrain2, ytrain)"
      ],
      "execution_count": null,
      "outputs": [
        {
          "output_type": "execute_result",
          "data": {
            "text/plain": [
              "KNeighborsClassifier(algorithm='auto', leaf_size=30, metric='minkowski',\n",
              "                     metric_params=None, n_jobs=None, n_neighbors=3, p=2,\n",
              "                     weights='uniform')"
            ]
          },
          "metadata": {},
          "execution_count": 91
        }
      ]
    },
    {
      "cell_type": "code",
      "metadata": {
        "id": "qr9E_H6x6yAz"
      },
      "source": [
        "ypredtest6 = knn2.predict(xtest2)"
      ],
      "execution_count": null,
      "outputs": []
    },
    {
      "cell_type": "code",
      "metadata": {
        "colab": {
          "base_uri": "https://localhost:8080/"
        },
        "id": "ZXdGkeEj62w8",
        "outputId": "8e2e8886-2671-4c73-a6c0-bd7ca33f09c8"
      },
      "source": [
        "confusion_matrix(ytest2,ypredtest6)"
      ],
      "execution_count": null,
      "outputs": [
        {
          "output_type": "execute_result",
          "data": {
            "text/plain": [
              "array([[48, 63],\n",
              "       [55, 86]])"
            ]
          },
          "metadata": {},
          "execution_count": 93
        }
      ]
    },
    {
      "cell_type": "markdown",
      "metadata": {
        "id": "zfnHJaam7AEI"
      },
      "source": [
        "The result improves slightly. But increasing K doesn't prove to provide any further improvements. "
      ]
    }
  ]
}