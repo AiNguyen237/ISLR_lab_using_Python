{
  "nbformat": 4,
  "nbformat_minor": 0,
  "metadata": {
    "colab": {
      "name": "Linear_Regression_Lab_Session.ipynb",
      "provenance": [],
      "authorship_tag": "ABX9TyMVHp/1lxehlgw879NSjbcv",
      "include_colab_link": true
    },
    "kernelspec": {
      "name": "python3",
      "display_name": "Python 3"
    },
    "language_info": {
      "name": "python"
    }
  },
  "cells": [
    {
      "cell_type": "markdown",
      "metadata": {
        "id": "view-in-github",
        "colab_type": "text"
      },
      "source": [
        "<a href=\"https://colab.research.google.com/github/AiNguyen237/ISLR_lab_using_Python/blob/main/Linear_Regression/Linear_Regression_Lab_Session.ipynb\" target=\"_parent\"><img src=\"https://colab.research.google.com/assets/colab-badge.svg\" alt=\"Open In Colab\"/></a>"
      ]
    },
    {
      "cell_type": "markdown",
      "metadata": {
        "id": "A0dk_7IQmmIM"
      },
      "source": [
        "![](data:image/png;base64,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)"
      ]
    },
    {
      "cell_type": "markdown",
      "metadata": {
        "id": "mHea-qM6LLur"
      },
      "source": [
        "**This lab is based on the lab from ISLR book**"
      ]
    },
    {
      "cell_type": "markdown",
      "metadata": {
        "id": "EA4zDCTjLSZ8"
      },
      "source": [
        "This lab will use statsmodel."
      ]
    },
    {
      "cell_type": "code",
      "metadata": {
        "id": "ztM_8Kz9IYgF",
        "colab": {
          "base_uri": "https://localhost:8080/"
        },
        "cellView": "form",
        "outputId": "8dfb3b10-44d2-4067-9cc3-585f75d4d172"
      },
      "source": [
        "#@title IMPORT LIBRARIES \n",
        "import pandas as pd\n",
        "import numpy as np \n",
        "import seaborn as sns \n",
        "import matplotlib.pyplot as plt\n",
        "from sklearn.model_selection import train_test_split\n",
        "import statsmodels.api as sm \n",
        "import statsmodels.formula.api as smf\n",
        "from statsmodels.sandbox.regression.predstd import wls_prediction_std\n",
        "plt.style.use('seaborn')\n",
        "import scipy.stats as stats\n",
        "from statsmodels.stats.outliers_influence import variance_inflation_factor as vif\n",
        "from sklearn.preprocessing import PolynomialFeatures"
      ],
      "execution_count": 1,
      "outputs": [
        {
          "output_type": "stream",
          "text": [
            "/usr/local/lib/python3.7/dist-packages/statsmodels/tools/_testing.py:19: FutureWarning: pandas.util.testing is deprecated. Use the functions in the public API at pandas.testing instead.\n",
            "  import pandas.util.testing as tm\n"
          ],
          "name": "stderr"
        }
      ]
    },
    {
      "cell_type": "markdown",
      "metadata": {
        "id": "-nw19yHVJmVJ"
      },
      "source": [
        "# SIMPLE LINEAR REGRESSION"
      ]
    },
    {
      "cell_type": "markdown",
      "metadata": {
        "id": "ehe0pyN07mRI"
      },
      "source": [
        "Download the datasets first "
      ]
    },
    {
      "cell_type": "code",
      "metadata": {
        "id": "mDmFLAZpJYrC"
      },
      "source": [
        "boston = pd.read_csv('https://raw.githubusercontent.com/JWarmenhoven/ISLR-python/master/Notebooks/Data/Boston.csv')"
      ],
      "execution_count": 2,
      "outputs": []
    },
    {
      "cell_type": "markdown",
      "metadata": {
        "id": "92EMr1e_J8AS"
      },
      "source": [
        "We will seek to predict ``medv`` using 13 predictors:\n",
        "1. ``rm`` : average number of rooms per house\n",
        "2. ``age``: average age of houses \n",
        "3. ``lstat``: percent of households with low socioeconomic status"
      ]
    },
    {
      "cell_type": "code",
      "metadata": {
        "colab": {
          "base_uri": "https://localhost:8080/"
        },
        "id": "hYPMkJcIJfZC",
        "outputId": "c852147d-28cf-403f-906c-86cbabedd442"
      },
      "source": [
        "# Find out more about our datasets and the other predictors\n",
        "boston.info()"
      ],
      "execution_count": 3,
      "outputs": [
        {
          "output_type": "stream",
          "text": [
            "<class 'pandas.core.frame.DataFrame'>\n",
            "RangeIndex: 506 entries, 0 to 505\n",
            "Data columns (total 14 columns):\n",
            " #   Column   Non-Null Count  Dtype  \n",
            "---  ------   --------------  -----  \n",
            " 0   crim     506 non-null    float64\n",
            " 1   zn       506 non-null    float64\n",
            " 2   indus    506 non-null    float64\n",
            " 3   chas     506 non-null    int64  \n",
            " 4   nox      506 non-null    float64\n",
            " 5   rm       506 non-null    float64\n",
            " 6   age      506 non-null    float64\n",
            " 7   dis      506 non-null    float64\n",
            " 8   rad      506 non-null    int64  \n",
            " 9   tax      506 non-null    int64  \n",
            " 10  ptratio  506 non-null    float64\n",
            " 11  black    506 non-null    float64\n",
            " 12  lstat    506 non-null    float64\n",
            " 13  medv     506 non-null    float64\n",
            "dtypes: float64(11), int64(3)\n",
            "memory usage: 55.5 KB\n"
          ],
          "name": "stdout"
        }
      ]
    },
    {
      "cell_type": "code",
      "metadata": {
        "colab": {
          "base_uri": "https://localhost:8080/",
          "height": 202
        },
        "id": "GGhstyxunnaL",
        "outputId": "481ff9aa-879f-4509-f2e0-d60b9c3500aa"
      },
      "source": [
        "boston.head()"
      ],
      "execution_count": 4,
      "outputs": [
        {
          "output_type": "execute_result",
          "data": {
            "text/html": [
              "<div>\n",
              "<style scoped>\n",
              "    .dataframe tbody tr th:only-of-type {\n",
              "        vertical-align: middle;\n",
              "    }\n",
              "\n",
              "    .dataframe tbody tr th {\n",
              "        vertical-align: top;\n",
              "    }\n",
              "\n",
              "    .dataframe thead th {\n",
              "        text-align: right;\n",
              "    }\n",
              "</style>\n",
              "<table border=\"1\" class=\"dataframe\">\n",
              "  <thead>\n",
              "    <tr style=\"text-align: right;\">\n",
              "      <th></th>\n",
              "      <th>crim</th>\n",
              "      <th>zn</th>\n",
              "      <th>indus</th>\n",
              "      <th>chas</th>\n",
              "      <th>nox</th>\n",
              "      <th>rm</th>\n",
              "      <th>age</th>\n",
              "      <th>dis</th>\n",
              "      <th>rad</th>\n",
              "      <th>tax</th>\n",
              "      <th>ptratio</th>\n",
              "      <th>black</th>\n",
              "      <th>lstat</th>\n",
              "      <th>medv</th>\n",
              "    </tr>\n",
              "  </thead>\n",
              "  <tbody>\n",
              "    <tr>\n",
              "      <th>0</th>\n",
              "      <td>0.00632</td>\n",
              "      <td>18.0</td>\n",
              "      <td>2.31</td>\n",
              "      <td>0</td>\n",
              "      <td>0.538</td>\n",
              "      <td>6.575</td>\n",
              "      <td>65.2</td>\n",
              "      <td>4.0900</td>\n",
              "      <td>1</td>\n",
              "      <td>296</td>\n",
              "      <td>15.3</td>\n",
              "      <td>396.90</td>\n",
              "      <td>4.98</td>\n",
              "      <td>24.0</td>\n",
              "    </tr>\n",
              "    <tr>\n",
              "      <th>1</th>\n",
              "      <td>0.02731</td>\n",
              "      <td>0.0</td>\n",
              "      <td>7.07</td>\n",
              "      <td>0</td>\n",
              "      <td>0.469</td>\n",
              "      <td>6.421</td>\n",
              "      <td>78.9</td>\n",
              "      <td>4.9671</td>\n",
              "      <td>2</td>\n",
              "      <td>242</td>\n",
              "      <td>17.8</td>\n",
              "      <td>396.90</td>\n",
              "      <td>9.14</td>\n",
              "      <td>21.6</td>\n",
              "    </tr>\n",
              "    <tr>\n",
              "      <th>2</th>\n",
              "      <td>0.02729</td>\n",
              "      <td>0.0</td>\n",
              "      <td>7.07</td>\n",
              "      <td>0</td>\n",
              "      <td>0.469</td>\n",
              "      <td>7.185</td>\n",
              "      <td>61.1</td>\n",
              "      <td>4.9671</td>\n",
              "      <td>2</td>\n",
              "      <td>242</td>\n",
              "      <td>17.8</td>\n",
              "      <td>392.83</td>\n",
              "      <td>4.03</td>\n",
              "      <td>34.7</td>\n",
              "    </tr>\n",
              "    <tr>\n",
              "      <th>3</th>\n",
              "      <td>0.03237</td>\n",
              "      <td>0.0</td>\n",
              "      <td>2.18</td>\n",
              "      <td>0</td>\n",
              "      <td>0.458</td>\n",
              "      <td>6.998</td>\n",
              "      <td>45.8</td>\n",
              "      <td>6.0622</td>\n",
              "      <td>3</td>\n",
              "      <td>222</td>\n",
              "      <td>18.7</td>\n",
              "      <td>394.63</td>\n",
              "      <td>2.94</td>\n",
              "      <td>33.4</td>\n",
              "    </tr>\n",
              "    <tr>\n",
              "      <th>4</th>\n",
              "      <td>0.06905</td>\n",
              "      <td>0.0</td>\n",
              "      <td>2.18</td>\n",
              "      <td>0</td>\n",
              "      <td>0.458</td>\n",
              "      <td>7.147</td>\n",
              "      <td>54.2</td>\n",
              "      <td>6.0622</td>\n",
              "      <td>3</td>\n",
              "      <td>222</td>\n",
              "      <td>18.7</td>\n",
              "      <td>396.90</td>\n",
              "      <td>5.33</td>\n",
              "      <td>36.2</td>\n",
              "    </tr>\n",
              "  </tbody>\n",
              "</table>\n",
              "</div>"
            ],
            "text/plain": [
              "      crim    zn  indus  chas    nox  ...  tax  ptratio   black  lstat  medv\n",
              "0  0.00632  18.0   2.31     0  0.538  ...  296     15.3  396.90   4.98  24.0\n",
              "1  0.02731   0.0   7.07     0  0.469  ...  242     17.8  396.90   9.14  21.6\n",
              "2  0.02729   0.0   7.07     0  0.469  ...  242     17.8  392.83   4.03  34.7\n",
              "3  0.03237   0.0   2.18     0  0.458  ...  222     18.7  394.63   2.94  33.4\n",
              "4  0.06905   0.0   2.18     0  0.458  ...  222     18.7  396.90   5.33  36.2\n",
              "\n",
              "[5 rows x 14 columns]"
            ]
          },
          "metadata": {
            "tags": []
          },
          "execution_count": 4
        }
      ]
    },
    {
      "cell_type": "code",
      "metadata": {
        "id": "lRxZ6lhtK0Ee"
      },
      "source": [
        "# Define X, y \n",
        "X = sm.add_constant(boston['lstat'])\n",
        "y = boston['medv']"
      ],
      "execution_count": 5,
      "outputs": []
    },
    {
      "cell_type": "markdown",
      "metadata": {
        "id": "jxHIKZNvPAVK"
      },
      "source": [
        "Start by fitting the simple linear regression model with ``medv`` as the response and ``lstat`` as the predictor. "
      ]
    },
    {
      "cell_type": "code",
      "metadata": {
        "id": "fa9P2xyFTaOW"
      },
      "source": [
        "lr = sm.OLS(y, X)\n",
        "results = lr.fit()"
      ],
      "execution_count": 6,
      "outputs": []
    },
    {
      "cell_type": "markdown",
      "metadata": {
        "id": "nzxLtf1qR-UV"
      },
      "source": [
        "Get the statistic summary for the model (p-values, standard errors for the coefficients, R2 statistics and F-statistic for the model)\n"
      ]
    },
    {
      "cell_type": "code",
      "metadata": {
        "colab": {
          "base_uri": "https://localhost:8080/"
        },
        "id": "Acqi8C-T6NEA",
        "outputId": "6c0ef77b-de1f-4b5c-8530-731b9e52771d"
      },
      "source": [
        "print(results.summary())"
      ],
      "execution_count": 7,
      "outputs": [
        {
          "output_type": "stream",
          "text": [
            "                            OLS Regression Results                            \n",
            "==============================================================================\n",
            "Dep. Variable:                   medv   R-squared:                       0.544\n",
            "Model:                            OLS   Adj. R-squared:                  0.543\n",
            "Method:                 Least Squares   F-statistic:                     601.6\n",
            "Date:                Sun, 27 Jun 2021   Prob (F-statistic):           5.08e-88\n",
            "Time:                        03:14:35   Log-Likelihood:                -1641.5\n",
            "No. Observations:                 506   AIC:                             3287.\n",
            "Df Residuals:                     504   BIC:                             3295.\n",
            "Df Model:                           1                                         \n",
            "Covariance Type:            nonrobust                                         \n",
            "==============================================================================\n",
            "                 coef    std err          t      P>|t|      [0.025      0.975]\n",
            "------------------------------------------------------------------------------\n",
            "const         34.5538      0.563     61.415      0.000      33.448      35.659\n",
            "lstat         -0.9500      0.039    -24.528      0.000      -1.026      -0.874\n",
            "==============================================================================\n",
            "Omnibus:                      137.043   Durbin-Watson:                   0.892\n",
            "Prob(Omnibus):                  0.000   Jarque-Bera (JB):              291.373\n",
            "Skew:                           1.453   Prob(JB):                     5.36e-64\n",
            "Kurtosis:                       5.319   Cond. No.                         29.7\n",
            "==============================================================================\n",
            "\n",
            "Warnings:\n",
            "[1] Standard Errors assume that the covariance matrix of the errors is correctly specified.\n"
          ],
          "name": "stdout"
        }
      ]
    },
    {
      "cell_type": "code",
      "metadata": {
        "colab": {
          "base_uri": "https://localhost:8080/"
        },
        "id": "to9EwFFv_pLe",
        "outputId": "7aef868f-e4f6-4cfd-c2da-9a450d1f712a"
      },
      "source": [
        "print('Parameters: ', results.params)\n",
        "print('Standard error: ', results.bse)"
      ],
      "execution_count": 8,
      "outputs": [
        {
          "output_type": "stream",
          "text": [
            "Parameters:  const    34.553841\n",
            "lstat    -0.950049\n",
            "dtype: float64\n",
            "Standard error:  const    0.562627\n",
            "lstat    0.038733\n",
            "dtype: float64\n"
          ],
          "name": "stdout"
        }
      ]
    },
    {
      "cell_type": "code",
      "metadata": {
        "colab": {
          "base_uri": "https://localhost:8080/",
          "height": 141
        },
        "id": "5lqW94RDJ-g5",
        "outputId": "3d4eff9f-c60e-4da7-bd61-355f4216b5c4"
      },
      "source": [
        "# Getting the confidence and prediction interval for the prediction of medv for a given value of lstat\n",
        "predictions = results.get_prediction([X.iloc[5], X.iloc[10], X.iloc[15]])\n",
        "predictions.summary_frame(alpha=0.5)"
      ],
      "execution_count": 9,
      "outputs": [
        {
          "output_type": "execute_result",
          "data": {
            "text/html": [
              "<div>\n",
              "<style scoped>\n",
              "    .dataframe tbody tr th:only-of-type {\n",
              "        vertical-align: middle;\n",
              "    }\n",
              "\n",
              "    .dataframe tbody tr th {\n",
              "        vertical-align: top;\n",
              "    }\n",
              "\n",
              "    .dataframe thead th {\n",
              "        text-align: right;\n",
              "    }\n",
              "</style>\n",
              "<table border=\"1\" class=\"dataframe\">\n",
              "  <thead>\n",
              "    <tr style=\"text-align: right;\">\n",
              "      <th></th>\n",
              "      <th>mean</th>\n",
              "      <th>mean_se</th>\n",
              "      <th>mean_ci_lower</th>\n",
              "      <th>mean_ci_upper</th>\n",
              "      <th>obs_ci_lower</th>\n",
              "      <th>obs_ci_upper</th>\n",
              "    </tr>\n",
              "  </thead>\n",
              "  <tbody>\n",
              "    <tr>\n",
              "      <th>0</th>\n",
              "      <td>29.604084</td>\n",
              "      <td>0.399336</td>\n",
              "      <td>29.334541</td>\n",
              "      <td>29.873626</td>\n",
              "      <td>25.399940</td>\n",
              "      <td>33.808228</td>\n",
              "    </tr>\n",
              "    <tr>\n",
              "      <th>1</th>\n",
              "      <td>15.125332</td>\n",
              "      <td>0.409341</td>\n",
              "      <td>14.849036</td>\n",
              "      <td>15.401627</td>\n",
              "      <td>10.920749</td>\n",
              "      <td>19.329914</td>\n",
              "    </tr>\n",
              "    <tr>\n",
              "      <th>2</th>\n",
              "      <td>26.506923</td>\n",
              "      <td>0.320323</td>\n",
              "      <td>26.290712</td>\n",
              "      <td>26.723134</td>\n",
              "      <td>22.305861</td>\n",
              "      <td>30.707985</td>\n",
              "    </tr>\n",
              "  </tbody>\n",
              "</table>\n",
              "</div>"
            ],
            "text/plain": [
              "        mean   mean_se  ...  obs_ci_lower  obs_ci_upper\n",
              "0  29.604084  0.399336  ...     25.399940     33.808228\n",
              "1  15.125332  0.409341  ...     10.920749     19.329914\n",
              "2  26.506923  0.320323  ...     22.305861     30.707985\n",
              "\n",
              "[3 rows x 6 columns]"
            ]
          },
          "metadata": {
            "tags": []
          },
          "execution_count": 9
        }
      ]
    },
    {
      "cell_type": "markdown",
      "metadata": {
        "id": "F1rlGhz7Em6j"
      },
      "source": [
        "With a ```lstat``` at index 10, the 95% confidence interval is (14.849, 15.402) and  the 95% prediction interval is (10.921, 19.330). As expected, the confidence and prediction intervals are centered around the same point (a predicted value of 15.125 for ``medv`` when ``lstat``  is at index 10), but the later is substantially wider. "
      ]
    },
    {
      "cell_type": "code",
      "metadata": {
        "colab": {
          "base_uri": "https://localhost:8080/",
          "height": 390
        },
        "id": "anIli34U_Izn",
        "outputId": "bdf1323b-fc29-4325-c206-adc4613524fc"
      },
      "source": [
        "# Plotting out medv and lstat with the least square regression line\n",
        "plt.figure(figsize=(10,5))\n",
        "sns.regplot(X.lstat,y, scatter_kws={'color':'r', 's': 9})\n",
        "plt.show()"
      ],
      "execution_count": 10,
      "outputs": [
        {
          "output_type": "stream",
          "text": [
            "/usr/local/lib/python3.7/dist-packages/seaborn/_decorators.py:43: FutureWarning: Pass the following variables as keyword args: x, y. From version 0.12, the only valid positional argument will be `data`, and passing other arguments without an explicit keyword will result in an error or misinterpretation.\n",
            "  FutureWarning\n"
          ],
          "name": "stderr"
        },
        {
          "output_type": "display_data",
          "data": {
            "image/png": "[encoded data removed]",
            "text/plain": [
              "<Figure size 720x360 with 1 Axes>"
            ]
          },
          "metadata": {
            "tags": [],
            "needs_background": "light"
          }
        }
      ]
    },
    {
      "cell_type": "markdown",
      "metadata": {
        "id": "4ahdhvpA_naG"
      },
      "source": [
        "seaborn.regplot is used to plot data and a linear regression model fit\n",
        "\n",
        "More information: https://seaborn.pydata.org/generated/seaborn.regplot.html?highlight=regplot#seaborn.regplot"
      ]
    },
    {
      "cell_type": "markdown",
      "metadata": {
        "id": "4DLcCzL9Knvs"
      },
      "source": [
        "There is some evidence for non-linearity in the relationship between ``lstat`` and ``medv``."
      ]
    },
    {
      "cell_type": "markdown",
      "metadata": {
        "id": "0mGEexx4Knjn"
      },
      "source": [
        "Next, examine some diagnostic plots. \n",
        "\n",
        "There are typically four plots:\n",
        "\n",
        "1. Residuals vs. Fit: A strong pattern in the residuals indicates non-linearity in the data.\n",
        "2. Normal Q-Q: checking to see if the errors are normally distributed with mean zero. A **good, normal** Q-Q plots have all the residuals lying on or close to the red line. \n",
        "3. Scale-Location: checking for heterodasticity. The more horizontal the more homoscedastic.\n",
        "4. Residuals vs. Leverage: Looking for leverage points (have extreme X values)."
      ]
    },
    {
      "cell_type": "markdown",
      "metadata": {
        "id": "TemivjZGwzyy"
      },
      "source": [
        "For the first plot, we'll be using ``sns.residplot``: https://seaborn.pydata.org/generated/seaborn.residplot.html\n",
        "\n",
        "For the second, we'll be using ``statsmodels.graphics.gofplots.ProbPlot`` to create a QQplot: https://www.statsmodels.org/stable/generated/statsmodels.graphics.gofplots.ProbPlot.html\n",
        "\n",
        "For the final plot, calculate the leverages points by calculating the hat matrix diagonal and to get the top 3 calculate the Cook's distance. "
      ]
    },
    {
      "cell_type": "code",
      "metadata": {
        "id": "vJjlLtUNHwEj"
      },
      "source": [
        "def diagnostic_plots(results):\n",
        "\n",
        "  \"\"\"\n",
        "  Function used to plot the diagnostic plots \n",
        "  \"\"\"\n",
        "\n",
        "  # Get the predicted values for the original design \n",
        "  fitted_values = results.fittedvalues\n",
        "\n",
        "  # Get the residuals of the model \n",
        "  residuals = results.resid\n",
        "\n",
        "  # Get the studentized standardized residuals \n",
        "  standardized_residuals = results.get_influence().resid_studentized_internal\n",
        "\n",
        "  # Get the abs square root studentized standardized residuals \n",
        "  sqrt_standardized_residuals = np.sqrt(np.abs(standardized_residuals))\n",
        "\n",
        "  # Get model leverage\n",
        "  leverage = results.get_influence().hat_matrix_diag\n",
        "\n",
        "  # Get cook's distance to calculate the leverage points\n",
        "  cook_dist = results.get_influence().cooks_distance[0]\n",
        "\n",
        "  plt.figure(figsize=(20,5))\n",
        "  # Create the Residuals vs. Fit plot \n",
        "  plt.subplot(141)\n",
        "  sns.residplot(x = fitted_values, y = residuals, \n",
        "                lowess = True, \n",
        "                scatter_kws = {'alpha':0.5},\n",
        "                line_kws = {'color':'red', 'lw':2, 'alpha': 0.8})\n",
        "\n",
        "  plt.xlabel('Fitted values')\n",
        "  plt.ylabel('Residuals')\n",
        "  plt.title('Residuals vs. Fitted')\n",
        "\n",
        "  # Create the QQ-plot\n",
        "  plt.subplot(142)\n",
        "  stats.probplot(standardized_residuals, plot = plt)\n",
        "  plt.ylabel('Standardized residuals')\n",
        "  plt.title('Normal Q-Q')\n",
        "\n",
        "  # Create Scale-Location plot \n",
        "  plt.subplot(143)\n",
        "  sns.regplot(x = fitted_values, y = sqrt_standardized_residuals,\n",
        "              lowess = True, \n",
        "              line_kws = {'color':'red', 'lw':2, 'alpha': 0.8},\n",
        "              scatter_kws = {'alpha':0.5})\n",
        "  plt.xlabel('Fitted values')\n",
        "  plt.ylabel('Square root standardized residuals')\n",
        "  plt.title('Scale Location plot')\n",
        "\n",
        "  # Create the Residuals vs. Leverage\n",
        "  plt.subplot(144)\n",
        "  sns.regplot(x = leverage, y = standardized_residuals,\n",
        "              lowess = True,\n",
        "              line_kws = {'color':'red', 'lw':2, 'alpha': 0.8},\n",
        "              scatter_kws = {'alpha':0.5})\n",
        "  plt.xlabel('Leverages')\n",
        "  plt.ylabel('Standardized residuals')\n",
        "  plt.title('Residuals vs. Leverage')\n",
        "\n",
        "  # Annotate the 3 leverage points\n",
        "  leverage_top_3 = np.flip(np.argsort(cook_dist), 0)[:3]\n",
        "  for i in leverage_top_3:\n",
        "    plt.annotate(i, xy = (leverage[i], standardized_residuals[i]))\n",
        "\n",
        "  plt.show()\n"
      ],
      "execution_count": 11,
      "outputs": []
    },
    {
      "cell_type": "code",
      "metadata": {
        "colab": {
          "base_uri": "https://localhost:8080/",
          "height": 348
        },
        "id": "Q2xfyCr_57L-",
        "outputId": "e17afde7-8a2c-4293-af18-9479039568f3"
      },
      "source": [
        "diagnostic_plots(results)"
      ],
      "execution_count": 12,
      "outputs": [
        {
          "output_type": "display_data",
          "data": {
            "image/png": "[encoded data removed]",
            "text/plain": [
              "<Figure size 1440x360 with 4 Axes>"
            ]
          },
          "metadata": {
            "tags": [],
            "needs_background": "light"
          }
        }
      ]
    },
    {
      "cell_type": "markdown",
      "metadata": {
        "id": "CFwv573aLmst"
      },
      "source": [
        "How to interpret the diagnostic plots?\n",
        "1. The residuals and fitted plot with a clear pattern indicating some of non-linear features of the model, meaning we are underfitting the model.\n",
        "2. Based on the normal Q-Q plot, the errors are not **normally distributed** and may be suffered from the 'heavy tails'.\n",
        "3. Our model is suffering from heterodasticity because of the typical sideways \"V\" shape observed in the scater-location plot.\n",
        "4. The Residuals vs. Leverages help identifying the observations that have the largest leverage statistics."
      ]
    },
    {
      "cell_type": "markdown",
      "metadata": {
        "id": "Boj-KxtZmWnK"
      },
      "source": [
        "# MULTIPLE LINEAR REGRESSION"
      ]
    },
    {
      "cell_type": "code",
      "metadata": {
        "id": "2zhWmz7jW-n7"
      },
      "source": [
        "# Define the new X with two predictors now \n",
        "X = boston[['lstat','age']]\n",
        "X = sm.add_constant(X)"
      ],
      "execution_count": 13,
      "outputs": []
    },
    {
      "cell_type": "code",
      "metadata": {
        "id": "EkVd5jJ1nJJd"
      },
      "source": [
        "# Fitting the new Linear Regression model\n",
        "lr_2 = sm.OLS(y, X)\n",
        "results_2 = lr_2.fit()"
      ],
      "execution_count": 14,
      "outputs": []
    },
    {
      "cell_type": "code",
      "metadata": {
        "colab": {
          "base_uri": "https://localhost:8080/"
        },
        "id": "31v5UGNyoDD7",
        "outputId": "ade38a4b-71b6-4621-cc3d-702706dc311d"
      },
      "source": [
        "# Printing the summary of the new model \n",
        "print(results_2.summary())"
      ],
      "execution_count": 15,
      "outputs": [
        {
          "output_type": "stream",
          "text": [
            "                            OLS Regression Results                            \n",
            "==============================================================================\n",
            "Dep. Variable:                   medv   R-squared:                       0.551\n",
            "Model:                            OLS   Adj. R-squared:                  0.549\n",
            "Method:                 Least Squares   F-statistic:                     309.0\n",
            "Date:                Sun, 27 Jun 2021   Prob (F-statistic):           2.98e-88\n",
            "Time:                        03:14:36   Log-Likelihood:                -1637.5\n",
            "No. Observations:                 506   AIC:                             3281.\n",
            "Df Residuals:                     503   BIC:                             3294.\n",
            "Df Model:                           2                                         \n",
            "Covariance Type:            nonrobust                                         \n",
            "==============================================================================\n",
            "                 coef    std err          t      P>|t|      [0.025      0.975]\n",
            "------------------------------------------------------------------------------\n",
            "const         33.2228      0.731     45.458      0.000      31.787      34.659\n",
            "lstat         -1.0321      0.048    -21.416      0.000      -1.127      -0.937\n",
            "age            0.0345      0.012      2.826      0.005       0.011       0.059\n",
            "==============================================================================\n",
            "Omnibus:                      124.288   Durbin-Watson:                   0.945\n",
            "Prob(Omnibus):                  0.000   Jarque-Bera (JB):              244.026\n",
            "Skew:                           1.362   Prob(JB):                     1.02e-53\n",
            "Kurtosis:                       5.038   Cond. No.                         201.\n",
            "==============================================================================\n",
            "\n",
            "Warnings:\n",
            "[1] Standard Errors assume that the covariance matrix of the errors is correctly specified.\n"
          ],
          "name": "stdout"
        }
      ]
    },
    {
      "cell_type": "markdown",
      "metadata": {
        "id": "Rr0c9g7Ypj-k"
      },
      "source": [
        "The Boston dataset contains 13 variables. Let's fit all the predictors to the Linear Regression model."
      ]
    },
    {
      "cell_type": "code",
      "metadata": {
        "id": "IGN-g8cYoLzm"
      },
      "source": [
        "# Define the new X with all 13 predictors \n",
        "X = boston.drop('medv', axis = 1)\n",
        "X = sm.add_constant(X)"
      ],
      "execution_count": 16,
      "outputs": []
    },
    {
      "cell_type": "code",
      "metadata": {
        "id": "3RkCZXvmp96x"
      },
      "source": [
        "lr_3 = sm.OLS(y, X)\n",
        "results_3 = lr_3.fit()"
      ],
      "execution_count": 17,
      "outputs": []
    },
    {
      "cell_type": "code",
      "metadata": {
        "colab": {
          "base_uri": "https://localhost:8080/"
        },
        "id": "AVcMUBanqX0V",
        "outputId": "4e97edfa-31f2-4b6e-9983-2a60c2f4474a"
      },
      "source": [
        "print(results_3.summary())"
      ],
      "execution_count": 18,
      "outputs": [
        {
          "output_type": "stream",
          "text": [
            "                            OLS Regression Results                            \n",
            "==============================================================================\n",
            "Dep. Variable:                   medv   R-squared:                       0.741\n",
            "Model:                            OLS   Adj. R-squared:                  0.734\n",
            "Method:                 Least Squares   F-statistic:                     108.1\n",
            "Date:                Sun, 27 Jun 2021   Prob (F-statistic):          6.72e-135\n",
            "Time:                        03:14:36   Log-Likelihood:                -1498.8\n",
            "No. Observations:                 506   AIC:                             3026.\n",
            "Df Residuals:                     492   BIC:                             3085.\n",
            "Df Model:                          13                                         \n",
            "Covariance Type:            nonrobust                                         \n",
            "==============================================================================\n",
            "                 coef    std err          t      P>|t|      [0.025      0.975]\n",
            "------------------------------------------------------------------------------\n",
            "const         36.4595      5.103      7.144      0.000      26.432      46.487\n",
            "crim          -0.1080      0.033     -3.287      0.001      -0.173      -0.043\n",
            "zn             0.0464      0.014      3.382      0.001       0.019       0.073\n",
            "indus          0.0206      0.061      0.334      0.738      -0.100       0.141\n",
            "chas           2.6867      0.862      3.118      0.002       0.994       4.380\n",
            "nox          -17.7666      3.820     -4.651      0.000     -25.272     -10.262\n",
            "rm             3.8099      0.418      9.116      0.000       2.989       4.631\n",
            "age            0.0007      0.013      0.052      0.958      -0.025       0.027\n",
            "dis           -1.4756      0.199     -7.398      0.000      -1.867      -1.084\n",
            "rad            0.3060      0.066      4.613      0.000       0.176       0.436\n",
            "tax           -0.0123      0.004     -3.280      0.001      -0.020      -0.005\n",
            "ptratio       -0.9527      0.131     -7.283      0.000      -1.210      -0.696\n",
            "black          0.0093      0.003      3.467      0.001       0.004       0.015\n",
            "lstat         -0.5248      0.051    -10.347      0.000      -0.624      -0.425\n",
            "==============================================================================\n",
            "Omnibus:                      178.041   Durbin-Watson:                   1.078\n",
            "Prob(Omnibus):                  0.000   Jarque-Bera (JB):              783.126\n",
            "Skew:                           1.521   Prob(JB):                    8.84e-171\n",
            "Kurtosis:                       8.281   Cond. No.                     1.51e+04\n",
            "==============================================================================\n",
            "\n",
            "Warnings:\n",
            "[1] Standard Errors assume that the covariance matrix of the errors is correctly specified.\n",
            "[2] The condition number is large, 1.51e+04. This might indicate that there are\n",
            "strong multicollinearity or other numerical problems.\n"
          ],
          "name": "stdout"
        }
      ]
    },
    {
      "cell_type": "markdown",
      "metadata": {
        "id": "xMrLDgf5xJcL"
      },
      "source": [
        "There is a strong multicollinearity in the dataset indicating by the high condition number. Let's calculate the VIF for each variable to assess the multicollinearity."
      ]
    },
    {
      "cell_type": "code",
      "metadata": {
        "colab": {
          "base_uri": "https://localhost:8080/"
        },
        "id": "O6ybJKygx_9_",
        "outputId": "566f89b1-3a10-4371-c1d3-a97fd730cf8b"
      },
      "source": [
        "# Making the VIF table for each the predictors\n",
        "vif_data = pd.DataFrame()\n",
        "vif_data['features_name'] = X.columns\n",
        "\n",
        "vif_data['VIF_score'] = [vif(X.values, i) for i in range(len(X.columns))]\n",
        "\n",
        "print(vif_data)"
      ],
      "execution_count": 19,
      "outputs": [
        {
          "output_type": "stream",
          "text": [
            "   features_name   VIF_score\n",
            "0          const  585.265238\n",
            "1           crim    1.792192\n",
            "2             zn    2.298758\n",
            "3          indus    3.991596\n",
            "4           chas    1.073995\n",
            "5            nox    4.393720\n",
            "6             rm    1.933744\n",
            "7            age    3.100826\n",
            "8            dis    3.955945\n",
            "9            rad    7.484496\n",
            "10           tax    9.008554\n",
            "11       ptratio    1.799084\n",
            "12         black    1.348521\n",
            "13         lstat    2.941491\n"
          ],
          "name": "stdout"
        }
      ]
    },
    {
      "cell_type": "markdown",
      "metadata": {
        "id": "H4s4G96F1Fnq"
      },
      "source": [
        "There resulting VIF for predictor ``tax`` is 9 and ``rad`` is 7 which is more than our cut-off value 5. There is indeed a collinearity when regress of ``medv`` on all the predictors. \n",
        "\n",
        "Aside from the VIF score, the p-values for ``age`` and ``indus`` is quite high, 0.9 and 0.7, respectively."
      ]
    },
    {
      "cell_type": "markdown",
      "metadata": {
        "id": "xmkXWmiM8YOY"
      },
      "source": [
        "Drop one of the problematic variables, start with ``age``."
      ]
    },
    {
      "cell_type": "code",
      "metadata": {
        "id": "xsWwvL9r7H-y"
      },
      "source": [
        "X_noage = boston.drop(['age','medv'], axis = 1)\n",
        "X_noage = sm.add_constant(X_noage)"
      ],
      "execution_count": 20,
      "outputs": []
    },
    {
      "cell_type": "code",
      "metadata": {
        "id": "guZ-0HZ_8uqO"
      },
      "source": [
        "lr_4 = sm.OLS(y, X_noage)\n",
        "results_4 = lr_4.fit()"
      ],
      "execution_count": 21,
      "outputs": []
    },
    {
      "cell_type": "code",
      "metadata": {
        "colab": {
          "base_uri": "https://localhost:8080/"
        },
        "id": "5hpU6GUr81pU",
        "outputId": "94ec4b88-a8d5-48c7-b323-73fbb408ad10"
      },
      "source": [
        "print(results_4.summary())"
      ],
      "execution_count": 22,
      "outputs": [
        {
          "output_type": "stream",
          "text": [
            "                            OLS Regression Results                            \n",
            "==============================================================================\n",
            "Dep. Variable:                   medv   R-squared:                       0.741\n",
            "Model:                            OLS   Adj. R-squared:                  0.734\n",
            "Method:                 Least Squares   F-statistic:                     117.3\n",
            "Date:                Sun, 27 Jun 2021   Prob (F-statistic):          6.08e-136\n",
            "Time:                        03:14:36   Log-Likelihood:                -1498.8\n",
            "No. Observations:                 506   AIC:                             3024.\n",
            "Df Residuals:                     493   BIC:                             3079.\n",
            "Df Model:                          12                                         \n",
            "Covariance Type:            nonrobust                                         \n",
            "==============================================================================\n",
            "                 coef    std err          t      P>|t|      [0.025      0.975]\n",
            "------------------------------------------------------------------------------\n",
            "const         36.4369      5.080      7.172      0.000      26.456      46.418\n",
            "crim          -0.1080      0.033     -3.290      0.001      -0.173      -0.043\n",
            "zn             0.0463      0.014      3.404      0.001       0.020       0.073\n",
            "indus          0.0206      0.061      0.335      0.738      -0.100       0.141\n",
            "chas           2.6890      0.860      3.128      0.002       1.000       4.378\n",
            "nox          -17.7135      3.679     -4.814      0.000     -24.943     -10.484\n",
            "rm             3.8144      0.408      9.338      0.000       3.012       4.617\n",
            "dis           -1.4786      0.191     -7.757      0.000      -1.853      -1.104\n",
            "rad            0.3058      0.066      4.627      0.000       0.176       0.436\n",
            "tax           -0.0123      0.004     -3.283      0.001      -0.020      -0.005\n",
            "ptratio       -0.9522      0.130     -7.308      0.000      -1.208      -0.696\n",
            "black          0.0093      0.003      3.481      0.001       0.004       0.015\n",
            "lstat         -0.5239      0.048    -10.999      0.000      -0.617      -0.430\n",
            "==============================================================================\n",
            "Omnibus:                      178.343   Durbin-Watson:                   1.078\n",
            "Prob(Omnibus):                  0.000   Jarque-Bera (JB):              786.386\n",
            "Skew:                           1.523   Prob(JB):                    1.73e-171\n",
            "Kurtosis:                       8.294   Cond. No.                     1.48e+04\n",
            "==============================================================================\n",
            "\n",
            "Warnings:\n",
            "[1] Standard Errors assume that the covariance matrix of the errors is correctly specified.\n",
            "[2] The condition number is large, 1.48e+04. This might indicate that there are\n",
            "strong multicollinearity or other numerical problems.\n"
          ],
          "name": "stdout"
        }
      ]
    },
    {
      "cell_type": "markdown",
      "metadata": {
        "id": "d6c5P0KZvnta"
      },
      "source": [
        "## Interaction terms"
      ]
    },
    {
      "cell_type": "markdown",
      "metadata": {
        "id": "p6vBEWadt4wu"
      },
      "source": [
        "Adding interaction terms in a linear model."
      ]
    },
    {
      "cell_type": "code",
      "metadata": {
        "colab": {
          "base_uri": "https://localhost:8080/"
        },
        "id": "biNI6dSLY4QZ",
        "outputId": "023baca0-32e2-4ac8-a163-3d901523ca9e"
      },
      "source": [
        "# Use statsmodels formula to add interaction terms \n",
        "lr_5 = smf.ols(formula='medv ~ lstat*age', data=boston)\n",
        "results_5 = lr_5.fit()\n",
        "print(results_5.summary())"
      ],
      "execution_count": 23,
      "outputs": [
        {
          "output_type": "stream",
          "text": [
            "                            OLS Regression Results                            \n",
            "==============================================================================\n",
            "Dep. Variable:                   medv   R-squared:                       0.556\n",
            "Model:                            OLS   Adj. R-squared:                  0.553\n",
            "Method:                 Least Squares   F-statistic:                     209.3\n",
            "Date:                Sun, 27 Jun 2021   Prob (F-statistic):           4.86e-88\n",
            "Time:                        03:14:37   Log-Likelihood:                -1635.0\n",
            "No. Observations:                 506   AIC:                             3278.\n",
            "Df Residuals:                     502   BIC:                             3295.\n",
            "Df Model:                           3                                         \n",
            "Covariance Type:            nonrobust                                         \n",
            "==============================================================================\n",
            "                 coef    std err          t      P>|t|      [0.025      0.975]\n",
            "------------------------------------------------------------------------------\n",
            "Intercept     36.0885      1.470     24.553      0.000      33.201      38.976\n",
            "lstat         -1.3921      0.167     -8.313      0.000      -1.721      -1.063\n",
            "age           -0.0007      0.020     -0.036      0.971      -0.040       0.038\n",
            "lstat:age      0.0042      0.002      2.244      0.025       0.001       0.008\n",
            "==============================================================================\n",
            "Omnibus:                      135.601   Durbin-Watson:                   0.965\n",
            "Prob(Omnibus):                  0.000   Jarque-Bera (JB):              296.955\n",
            "Skew:                           1.417   Prob(JB):                     3.29e-65\n",
            "Kurtosis:                       5.461   Cond. No.                     6.88e+03\n",
            "==============================================================================\n",
            "\n",
            "Warnings:\n",
            "[1] Standard Errors assume that the covariance matrix of the errors is correctly specified.\n",
            "[2] The condition number is large, 6.88e+03. This might indicate that there are\n",
            "strong multicollinearity or other numerical problems.\n"
          ],
          "name": "stdout"
        }
      ]
    },
    {
      "cell_type": "markdown",
      "metadata": {
        "id": "ZQUV8UQZvwU_"
      },
      "source": [
        "## Non-linear Transformations of the Predictors "
      ]
    },
    {
      "cell_type": "code",
      "metadata": {
        "id": "WTUu4g28Hc4l",
        "colab": {
          "base_uri": "https://localhost:8080/"
        },
        "outputId": "e8893434-ab66-48f4-ccad-96b712fc56be"
      },
      "source": [
        "# Will be using stats formula api instead. This will allow using the R code in statsmodel, also without this we cannot calculate the annova score\n",
        "model = 'medv~lstat+I(lstat**2)'\n",
        "lr_6 = smf.ols(formula = model, data = boston)\n",
        "results_6 = lr_6.fit()\n",
        "print(results_6.summary())"
      ],
      "execution_count": 24,
      "outputs": [
        {
          "output_type": "stream",
          "text": [
            "                            OLS Regression Results                            \n",
            "==============================================================================\n",
            "Dep. Variable:                   medv   R-squared:                       0.641\n",
            "Model:                            OLS   Adj. R-squared:                  0.639\n",
            "Method:                 Least Squares   F-statistic:                     448.5\n",
            "Date:                Sun, 27 Jun 2021   Prob (F-statistic):          1.56e-112\n",
            "Time:                        03:14:37   Log-Likelihood:                -1581.3\n",
            "No. Observations:                 506   AIC:                             3169.\n",
            "Df Residuals:                     503   BIC:                             3181.\n",
            "Df Model:                           2                                         \n",
            "Covariance Type:            nonrobust                                         \n",
            "=================================================================================\n",
            "                    coef    std err          t      P>|t|      [0.025      0.975]\n",
            "---------------------------------------------------------------------------------\n",
            "Intercept        42.8620      0.872     49.149      0.000      41.149      44.575\n",
            "lstat            -2.3328      0.124    -18.843      0.000      -2.576      -2.090\n",
            "I(lstat ** 2)     0.0435      0.004     11.628      0.000       0.036       0.051\n",
            "==============================================================================\n",
            "Omnibus:                      107.006   Durbin-Watson:                   0.921\n",
            "Prob(Omnibus):                  0.000   Jarque-Bera (JB):              228.388\n",
            "Skew:                           1.128   Prob(JB):                     2.55e-50\n",
            "Kurtosis:                       5.397   Cond. No.                     1.13e+03\n",
            "==============================================================================\n",
            "\n",
            "Warnings:\n",
            "[1] Standard Errors assume that the covariance matrix of the errors is correctly specified.\n",
            "[2] The condition number is large, 1.13e+03. This might indicate that there are\n",
            "strong multicollinearity or other numerical problems.\n"
          ],
          "name": "stdout"
        }
      ]
    },
    {
      "cell_type": "markdown",
      "metadata": {
        "id": "Gdyv7jby5PSY"
      },
      "source": [
        "Using ``I(lstat**2)`` will create a problem: it will be highly correlated with lstat. ``poly()`` creates a curved set of variables where the linear term is not so highly correlated with ``lstat`` and where the curvature is roughly the same across the range of data"
      ]
    },
    {
      "cell_type": "markdown",
      "metadata": {
        "id": "HjTwtFHeI_-M"
      },
      "source": [
        "The near-zero p-value associated with the quadratic term suggests that it leads to an improved model. \n",
        "\n",
        "Use the ``anova()`` function to further quantify the extent to which the quadratic is superior to the linear fit."
      ]
    },
    {
      "cell_type": "code",
      "metadata": {
        "colab": {
          "base_uri": "https://localhost:8080/"
        },
        "id": "XHuXV_QuI7MA",
        "outputId": "71aca432-cf26-4740-9408-83f3d409330e"
      },
      "source": [
        "table = sm.stats.anova_lm(results, results_6)\n",
        "print(table)"
      ],
      "execution_count": 25,
      "outputs": [
        {
          "output_type": "stream",
          "text": [
            "   df_resid           ssr  df_diff     ss_diff           F        Pr(>F)\n",
            "0     504.0  19472.381418      0.0         NaN         NaN           NaN\n",
            "1     503.0  15347.243158      1.0  4125.13826  135.199822  7.630116e-28\n"
          ],
          "name": "stdout"
        }
      ]
    },
    {
      "cell_type": "markdown",
      "metadata": {
        "id": "uvtiIjH5b7ge"
      },
      "source": [
        "``results`` represents the linear submodel containing only one predictor ``lstat``, ``results_6`` represents the larger quadratic model that has two predictors, ``lstat`` and ``lstat^2``."
      ]
    },
    {
      "cell_type": "markdown",
      "metadata": {
        "id": "ZHuR5SKVca9K"
      },
      "source": [
        "**More on Anova test**\n",
        "\n",
        "1. Null Hypothesis: the two models fit the data equally well.\n",
        "2. Alternative Hypothesis: the full model is superior.\n",
        "\n",
        "The F-statistic is 135 and the p-value is close to 0 which means there is very clear evidence that the model containing both the ``lstat`` and ``lstat^2`` is better than the linear one (Reject the Null Hypothesis).\n",
        "\n",
        "This is not unexpected since when we plot the Residuals vs. Fit that shows there are evidence for non-linearity in the relationship between ``medv`` and ``lstat``."
      ]
    },
    {
      "cell_type": "code",
      "metadata": {
        "colab": {
          "base_uri": "https://localhost:8080/",
          "height": 348
        },
        "id": "rUhiJV4hP2LP",
        "outputId": "222a2500-dd8c-4881-f9d7-40d3e919f8f5"
      },
      "source": [
        "# Plot the diagnostic plot for the new model \n",
        "diagnostic_plots(results_6)"
      ],
      "execution_count": 26,
      "outputs": [
        {
          "output_type": "display_data",
          "data": {
            "image/png": "[encoded data removed]",
            "text/plain": [
              "<Figure size 1440x360 with 4 Axes>"
            ]
          },
          "metadata": {
            "tags": [],
            "needs_background": "light"
          }
        }
      ]
    },
    {
      "cell_type": "markdown",
      "metadata": {
        "id": "pMXRaBzzd878"
      },
      "source": [
        "Based on the ``Residuals vs. Fitted`` plot above, there are little discernible pattern in the residuals comparing to the previous plot."
      ]
    },
    {
      "cell_type": "markdown",
      "metadata": {
        "id": "JvQ3SQm8eXAC"
      },
      "source": [
        "Create a higher order of polynomial fit. "
      ]
    },
    {
      "cell_type": "code",
      "metadata": {
        "id": "NxpcScyca_A_"
      },
      "source": [
        "# Replicating the results of R's poly(x,p) function by performing QR decomposition \n",
        "def poly(x, p):\n",
        "  \"\"\"\n",
        "  Performing QR decomposition in order to getting Polynomial Features based on p degree\n",
        "\n",
        "  Input: \n",
        "  1. x features \n",
        "  2. p degree\n",
        "\n",
        "  Output:\n",
        "  \"\"\"\n",
        "  x = np.array(x)\n",
        "  # Using np.vstack() to stack all the rows of different degree of on top of each other \n",
        "  # Then use np.transpose to transpose all the rows into columns \n",
        "  x = np.transpose(np.vstack((x**k for k in range(p+1))))\n",
        "  x = np.linalg.qr(x)[0][:,1:]\n",
        "  return x"
      ],
      "execution_count": 27,
      "outputs": []
    },
    {
      "cell_type": "code",
      "metadata": {
        "id": "RJv64QX3eswU",
        "colab": {
          "base_uri": "https://localhost:8080/"
        },
        "outputId": "8fe42a95-b63f-4cee-e602-dfeb52cb760f"
      },
      "source": [
        "lr_7 = smf.ols(formula='medv ~ poly(lstat,5)', data = boston)\n",
        "results_7 = lr_7.fit()\n",
        "print(results_7.summary())"
      ],
      "execution_count": 28,
      "outputs": [
        {
          "output_type": "stream",
          "text": [
            "                            OLS Regression Results                            \n",
            "==============================================================================\n",
            "Dep. Variable:                   medv   R-squared:                       0.682\n",
            "Model:                            OLS   Adj. R-squared:                  0.679\n",
            "Method:                 Least Squares   F-statistic:                     214.2\n",
            "Date:                Sun, 27 Jun 2021   Prob (F-statistic):          8.73e-122\n",
            "Time:                        03:14:38   Log-Likelihood:                -1550.6\n",
            "No. Observations:                 506   AIC:                             3113.\n",
            "Df Residuals:                     500   BIC:                             3139.\n",
            "Df Model:                           5                                         \n",
            "Covariance Type:            nonrobust                                         \n",
            "=====================================================================================\n",
            "                        coef    std err          t      P>|t|      [0.025      0.975]\n",
            "-------------------------------------------------------------------------------------\n",
            "Intercept            22.5328      0.232     97.197      0.000      22.077      22.988\n",
            "poly(lstat, 5)[0]  -152.4595      5.215    -29.236      0.000    -162.705    -142.214\n",
            "poly(lstat, 5)[1]   -64.2272      5.215    -12.316      0.000     -74.473     -53.982\n",
            "poly(lstat, 5)[2]   -27.0511      5.215     -5.187      0.000     -37.297     -16.805\n",
            "poly(lstat, 5)[3]    25.4517      5.215      4.881      0.000      15.206      35.697\n",
            "poly(lstat, 5)[4]    19.2524      5.215      3.692      0.000       9.007      29.498\n",
            "==============================================================================\n",
            "Omnibus:                      144.085   Durbin-Watson:                   0.987\n",
            "Prob(Omnibus):                  0.000   Jarque-Bera (JB):              494.545\n",
            "Skew:                           1.292   Prob(JB):                    4.08e-108\n",
            "Kurtosis:                       7.096   Cond. No.                         22.5\n",
            "==============================================================================\n",
            "\n",
            "Warnings:\n",
            "[1] Standard Errors assume that the covariance matrix of the errors is correctly specified.\n"
          ],
          "name": "stdout"
        },
        {
          "output_type": "stream",
          "text": [
            "/usr/local/lib/python3.7/dist-packages/ipykernel_launcher.py:15: FutureWarning: arrays to stack must be passed as a \"sequence\" type such as list or tuple. Support for non-sequence iterables such as generators is deprecated as of NumPy 1.16 and will raise an error in the future.\n",
            "  from ipykernel import kernelapp as app\n"
          ],
          "name": "stderr"
        }
      ]
    },
    {
      "cell_type": "markdown",
      "metadata": {
        "id": "y15WM82ieshF"
      },
      "source": [
        "This suggests that including additional polynomial terms, up to fifth order, leads to an improvement in the model fit.\n",
        "\n",
        "We can also try to use a log transformation."
      ]
    },
    {
      "cell_type": "code",
      "metadata": {
        "id": "w9NlciROYcvq",
        "colab": {
          "base_uri": "https://localhost:8080/"
        },
        "outputId": "a8586824-acc8-42cb-9248-ef42e42e4987"
      },
      "source": [
        "lr_8 = smf.ols(formula='medv ~ np.log(rm)', data=boston)\n",
        "results_8 = lr_8.fit()\n",
        "print(results_8.summary())"
      ],
      "execution_count": 35,
      "outputs": [
        {
          "output_type": "stream",
          "text": [
            "                            OLS Regression Results                            \n",
            "==============================================================================\n",
            "Dep. Variable:                   medv   R-squared:                       0.436\n",
            "Model:                            OLS   Adj. R-squared:                  0.435\n",
            "Method:                 Least Squares   F-statistic:                     389.3\n",
            "Date:                Sun, 27 Jun 2021   Prob (F-statistic):           1.22e-64\n",
            "Time:                        03:55:48   Log-Likelihood:                -1695.4\n",
            "No. Observations:                 506   AIC:                             3395.\n",
            "Df Residuals:                     504   BIC:                             3403.\n",
            "Df Model:                           1                                         \n",
            "Covariance Type:            nonrobust                                         \n",
            "==============================================================================\n",
            "                 coef    std err          t      P>|t|      [0.025      0.975]\n",
            "------------------------------------------------------------------------------\n",
            "Intercept    -76.4878      5.028    -15.213      0.000     -86.366     -66.610\n",
            "np.log(rm)    54.0546      2.739     19.732      0.000      48.672      59.437\n",
            "==============================================================================\n",
            "Omnibus:                      117.102   Durbin-Watson:                   0.681\n",
            "Prob(Omnibus):                  0.000   Jarque-Bera (JB):              584.336\n",
            "Skew:                           0.916   Prob(JB):                    1.30e-127\n",
            "Kurtosis:                       7.936   Cond. No.                         38.9\n",
            "==============================================================================\n",
            "\n",
            "Warnings:\n",
            "[1] Standard Errors assume that the covariance matrix of the errors is correctly specified.\n"
          ],
          "name": "stdout"
        }
      ]
    },
    {
      "cell_type": "markdown",
      "metadata": {
        "id": "53OVB3VXo066"
      },
      "source": [
        "# QUALITATIVE PREDICTORS"
      ]
    },
    {
      "cell_type": "markdown",
      "metadata": {
        "id": "iw9nabdopANh"
      },
      "source": [
        "We'll be using ``Carseats`` data for this part of the lab."
      ]
    },
    {
      "cell_type": "code",
      "metadata": {
        "id": "4hSaiQpPzfPW"
      },
      "source": [
        "carseats = pd.read_csv('https://raw.githubusercontent.com/JWarmenhoven/ISLR-python/master/Notebooks/Data/Carseats.csv')"
      ],
      "execution_count": 53,
      "outputs": []
    },
    {
      "cell_type": "code",
      "metadata": {
        "id": "_kCrXMsnrEmt"
      },
      "source": [
        "carseats.drop('Unnamed: 0', axis = 1, inplace=True)"
      ],
      "execution_count": 54,
      "outputs": []
    },
    {
      "cell_type": "markdown",
      "metadata": {
        "id": "wS710AJgqKoZ"
      },
      "source": [
        "We will attempt to predict ``Sales`` (child car seat sales) in 400 locations based on a number of predictors."
      ]
    },
    {
      "cell_type": "code",
      "metadata": {
        "colab": {
          "base_uri": "https://localhost:8080/",
          "height": 202
        },
        "id": "1uBbzD40q8wa",
        "outputId": "ff002248-aae3-498d-b9f8-873d69a8813c"
      },
      "source": [
        "carseats.head()"
      ],
      "execution_count": 55,
      "outputs": [
        {
          "output_type": "execute_result",
          "data": {
            "text/html": [
              "<div>\n",
              "<style scoped>\n",
              "    .dataframe tbody tr th:only-of-type {\n",
              "        vertical-align: middle;\n",
              "    }\n",
              "\n",
              "    .dataframe tbody tr th {\n",
              "        vertical-align: top;\n",
              "    }\n",
              "\n",
              "    .dataframe thead th {\n",
              "        text-align: right;\n",
              "    }\n",
              "</style>\n",
              "<table border=\"1\" class=\"dataframe\">\n",
              "  <thead>\n",
              "    <tr style=\"text-align: right;\">\n",
              "      <th></th>\n",
              "      <th>Sales</th>\n",
              "      <th>CompPrice</th>\n",
              "      <th>Income</th>\n",
              "      <th>Advertising</th>\n",
              "      <th>Population</th>\n",
              "      <th>Price</th>\n",
              "      <th>ShelveLoc</th>\n",
              "      <th>Age</th>\n",
              "      <th>Education</th>\n",
              "      <th>Urban</th>\n",
              "      <th>US</th>\n",
              "    </tr>\n",
              "  </thead>\n",
              "  <tbody>\n",
              "    <tr>\n",
              "      <th>0</th>\n",
              "      <td>9.50</td>\n",
              "      <td>138</td>\n",
              "      <td>73</td>\n",
              "      <td>11</td>\n",
              "      <td>276</td>\n",
              "      <td>120</td>\n",
              "      <td>Bad</td>\n",
              "      <td>42</td>\n",
              "      <td>17</td>\n",
              "      <td>Yes</td>\n",
              "      <td>Yes</td>\n",
              "    </tr>\n",
              "    <tr>\n",
              "      <th>1</th>\n",
              "      <td>11.22</td>\n",
              "      <td>111</td>\n",
              "      <td>48</td>\n",
              "      <td>16</td>\n",
              "      <td>260</td>\n",
              "      <td>83</td>\n",
              "      <td>Good</td>\n",
              "      <td>65</td>\n",
              "      <td>10</td>\n",
              "      <td>Yes</td>\n",
              "      <td>Yes</td>\n",
              "    </tr>\n",
              "    <tr>\n",
              "      <th>2</th>\n",
              "      <td>10.06</td>\n",
              "      <td>113</td>\n",
              "      <td>35</td>\n",
              "      <td>10</td>\n",
              "      <td>269</td>\n",
              "      <td>80</td>\n",
              "      <td>Medium</td>\n",
              "      <td>59</td>\n",
              "      <td>12</td>\n",
              "      <td>Yes</td>\n",
              "      <td>Yes</td>\n",
              "    </tr>\n",
              "    <tr>\n",
              "      <th>3</th>\n",
              "      <td>7.40</td>\n",
              "      <td>117</td>\n",
              "      <td>100</td>\n",
              "      <td>4</td>\n",
              "      <td>466</td>\n",
              "      <td>97</td>\n",
              "      <td>Medium</td>\n",
              "      <td>55</td>\n",
              "      <td>14</td>\n",
              "      <td>Yes</td>\n",
              "      <td>Yes</td>\n",
              "    </tr>\n",
              "    <tr>\n",
              "      <th>4</th>\n",
              "      <td>4.15</td>\n",
              "      <td>141</td>\n",
              "      <td>64</td>\n",
              "      <td>3</td>\n",
              "      <td>340</td>\n",
              "      <td>128</td>\n",
              "      <td>Bad</td>\n",
              "      <td>38</td>\n",
              "      <td>13</td>\n",
              "      <td>Yes</td>\n",
              "      <td>No</td>\n",
              "    </tr>\n",
              "  </tbody>\n",
              "</table>\n",
              "</div>"
            ],
            "text/plain": [
              "   Sales  CompPrice  Income  Advertising  ...  Age  Education Urban   US\n",
              "0   9.50        138      73           11  ...   42         17   Yes  Yes\n",
              "1  11.22        111      48           16  ...   65         10   Yes  Yes\n",
              "2  10.06        113      35           10  ...   59         12   Yes  Yes\n",
              "3   7.40        117     100            4  ...   55         14   Yes  Yes\n",
              "4   4.15        141      64            3  ...   38         13   Yes   No\n",
              "\n",
              "[5 rows x 11 columns]"
            ]
          },
          "metadata": {
            "tags": []
          },
          "execution_count": 55
        }
      ]
    },
    {
      "cell_type": "code",
      "metadata": {
        "colab": {
          "base_uri": "https://localhost:8080/"
        },
        "id": "0POqNXStpjrf",
        "outputId": "64483c86-6459-49cb-bc20-5f4854f94d8f"
      },
      "source": [
        "carseats.info()"
      ],
      "execution_count": 56,
      "outputs": [
        {
          "output_type": "stream",
          "text": [
            "<class 'pandas.core.frame.DataFrame'>\n",
            "RangeIndex: 400 entries, 0 to 399\n",
            "Data columns (total 11 columns):\n",
            " #   Column       Non-Null Count  Dtype  \n",
            "---  ------       --------------  -----  \n",
            " 0   Sales        400 non-null    float64\n",
            " 1   CompPrice    400 non-null    int64  \n",
            " 2   Income       400 non-null    int64  \n",
            " 3   Advertising  400 non-null    int64  \n",
            " 4   Population   400 non-null    int64  \n",
            " 5   Price        400 non-null    int64  \n",
            " 6   ShelveLoc    400 non-null    object \n",
            " 7   Age          400 non-null    int64  \n",
            " 8   Education    400 non-null    int64  \n",
            " 9   Urban        400 non-null    object \n",
            " 10  US           400 non-null    object \n",
            "dtypes: float64(1), int64(7), object(3)\n",
            "memory usage: 34.5+ KB\n"
          ],
          "name": "stdout"
        }
      ]
    },
    {
      "cell_type": "markdown",
      "metadata": {
        "id": "gk275uIgprCO"
      },
      "source": [
        "The ``Carseats`` data includes qualitative predictors such as ``ShelveLoc``, an indicator of the quality of the shelving location - that is, the space within the store in which the car seat is displayed - at each location. "
      ]
    },
    {
      "cell_type": "code",
      "metadata": {
        "colab": {
          "base_uri": "https://localhost:8080/"
        },
        "id": "nY3r-vLGpnxk",
        "outputId": "9cf93d8b-61e1-465e-ef5b-acececb73c4e"
      },
      "source": [
        "carseats.ShelveLoc.unique()"
      ],
      "execution_count": 57,
      "outputs": [
        {
          "output_type": "execute_result",
          "data": {
            "text/plain": [
              "array(['Bad', 'Good', 'Medium'], dtype=object)"
            ]
          },
          "metadata": {
            "tags": []
          },
          "execution_count": 57
        }
      ]
    },
    {
      "cell_type": "markdown",
      "metadata": {
        "id": "TOAN685fqmYF"
      },
      "source": [
        "``ShelveLoc`` takes on three possible values (Bad, Medium, and Good). \n",
        "\n",
        "Create dummy variables for this predictors and fit a multiple regression model that includes some interaction terms."
      ]
    },
    {
      "cell_type": "code",
      "metadata": {
        "id": "JU2Bk31mrxPl"
      },
      "source": [
        "# Create dummy variables for ShelveLoc\n",
        "carseats = pd.get_dummies(carseats, columns = ['ShelveLoc'], drop_first=True) # drop_first = True will drop the first column to get k-1 categorical levels "
      ],
      "execution_count": 58,
      "outputs": []
    },
    {
      "cell_type": "code",
      "metadata": {
        "colab": {
          "base_uri": "https://localhost:8080/",
          "height": 202
        },
        "id": "0mhZN1IZxU1r",
        "outputId": "7e62c596-5899-4e02-a54b-7404424b0d18"
      },
      "source": [
        "carseats.head()"
      ],
      "execution_count": 59,
      "outputs": [
        {
          "output_type": "execute_result",
          "data": {
            "text/html": [
              "<div>\n",
              "<style scoped>\n",
              "    .dataframe tbody tr th:only-of-type {\n",
              "        vertical-align: middle;\n",
              "    }\n",
              "\n",
              "    .dataframe tbody tr th {\n",
              "        vertical-align: top;\n",
              "    }\n",
              "\n",
              "    .dataframe thead th {\n",
              "        text-align: right;\n",
              "    }\n",
              "</style>\n",
              "<table border=\"1\" class=\"dataframe\">\n",
              "  <thead>\n",
              "    <tr style=\"text-align: right;\">\n",
              "      <th></th>\n",
              "      <th>Sales</th>\n",
              "      <th>CompPrice</th>\n",
              "      <th>Income</th>\n",
              "      <th>Advertising</th>\n",
              "      <th>Population</th>\n",
              "      <th>Price</th>\n",
              "      <th>Age</th>\n",
              "      <th>Education</th>\n",
              "      <th>Urban</th>\n",
              "      <th>US</th>\n",
              "      <th>ShelveLoc_Good</th>\n",
              "      <th>ShelveLoc_Medium</th>\n",
              "    </tr>\n",
              "  </thead>\n",
              "  <tbody>\n",
              "    <tr>\n",
              "      <th>0</th>\n",
              "      <td>9.50</td>\n",
              "      <td>138</td>\n",
              "      <td>73</td>\n",
              "      <td>11</td>\n",
              "      <td>276</td>\n",
              "      <td>120</td>\n",
              "      <td>42</td>\n",
              "      <td>17</td>\n",
              "      <td>Yes</td>\n",
              "      <td>Yes</td>\n",
              "      <td>0</td>\n",
              "      <td>0</td>\n",
              "    </tr>\n",
              "    <tr>\n",
              "      <th>1</th>\n",
              "      <td>11.22</td>\n",
              "      <td>111</td>\n",
              "      <td>48</td>\n",
              "      <td>16</td>\n",
              "      <td>260</td>\n",
              "      <td>83</td>\n",
              "      <td>65</td>\n",
              "      <td>10</td>\n",
              "      <td>Yes</td>\n",
              "      <td>Yes</td>\n",
              "      <td>1</td>\n",
              "      <td>0</td>\n",
              "    </tr>\n",
              "    <tr>\n",
              "      <th>2</th>\n",
              "      <td>10.06</td>\n",
              "      <td>113</td>\n",
              "      <td>35</td>\n",
              "      <td>10</td>\n",
              "      <td>269</td>\n",
              "      <td>80</td>\n",
              "      <td>59</td>\n",
              "      <td>12</td>\n",
              "      <td>Yes</td>\n",
              "      <td>Yes</td>\n",
              "      <td>0</td>\n",
              "      <td>1</td>\n",
              "    </tr>\n",
              "    <tr>\n",
              "      <th>3</th>\n",
              "      <td>7.40</td>\n",
              "      <td>117</td>\n",
              "      <td>100</td>\n",
              "      <td>4</td>\n",
              "      <td>466</td>\n",
              "      <td>97</td>\n",
              "      <td>55</td>\n",
              "      <td>14</td>\n",
              "      <td>Yes</td>\n",
              "      <td>Yes</td>\n",
              "      <td>0</td>\n",
              "      <td>1</td>\n",
              "    </tr>\n",
              "    <tr>\n",
              "      <th>4</th>\n",
              "      <td>4.15</td>\n",
              "      <td>141</td>\n",
              "      <td>64</td>\n",
              "      <td>3</td>\n",
              "      <td>340</td>\n",
              "      <td>128</td>\n",
              "      <td>38</td>\n",
              "      <td>13</td>\n",
              "      <td>Yes</td>\n",
              "      <td>No</td>\n",
              "      <td>0</td>\n",
              "      <td>0</td>\n",
              "    </tr>\n",
              "  </tbody>\n",
              "</table>\n",
              "</div>"
            ],
            "text/plain": [
              "   Sales  CompPrice  Income  ...   US  ShelveLoc_Good  ShelveLoc_Medium\n",
              "0   9.50        138      73  ...  Yes               0                 0\n",
              "1  11.22        111      48  ...  Yes               1                 0\n",
              "2  10.06        113      35  ...  Yes               0                 1\n",
              "3   7.40        117     100  ...  Yes               0                 1\n",
              "4   4.15        141      64  ...   No               0                 0\n",
              "\n",
              "[5 rows x 12 columns]"
            ]
          },
          "metadata": {
            "tags": []
          },
          "execution_count": 59
        }
      ]
    },
    {
      "cell_type": "markdown",
      "metadata": {
        "id": "3qZG2k-oyH5N"
      },
      "source": [
        "``pd.get_dummies`` created a ``ShelveLoc_Good`` dummy variable that takes on a value of 1 if the shelving location is good, and 0 otherwise. It has also created a ``ShelveLoc_Medium`` dummy variable that equals 1 if the shelving location is medium, and 0 otherwise. A bad shelving location corresponds to a 0 for each of the two dummy variables."
      ]
    },
    {
      "cell_type": "code",
      "metadata": {
        "colab": {
          "base_uri": "https://localhost:8080/",
          "height": 202
        },
        "id": "E57qCylIxZqe",
        "outputId": "c5a97e33-4a1e-415a-e934-a20f2247ce2d"
      },
      "source": [
        "# We will do the same for both Urban and US\n",
        "carseats = pd.get_dummies(carseats, columns = ['Urban', 'US'], drop_first=True) # Can merge with the earlier get_dummies\n",
        "carseats.head()"
      ],
      "execution_count": 60,
      "outputs": [
        {
          "output_type": "execute_result",
          "data": {
            "text/html": [
              "<div>\n",
              "<style scoped>\n",
              "    .dataframe tbody tr th:only-of-type {\n",
              "        vertical-align: middle;\n",
              "    }\n",
              "\n",
              "    .dataframe tbody tr th {\n",
              "        vertical-align: top;\n",
              "    }\n",
              "\n",
              "    .dataframe thead th {\n",
              "        text-align: right;\n",
              "    }\n",
              "</style>\n",
              "<table border=\"1\" class=\"dataframe\">\n",
              "  <thead>\n",
              "    <tr style=\"text-align: right;\">\n",
              "      <th></th>\n",
              "      <th>Sales</th>\n",
              "      <th>CompPrice</th>\n",
              "      <th>Income</th>\n",
              "      <th>Advertising</th>\n",
              "      <th>Population</th>\n",
              "      <th>Price</th>\n",
              "      <th>Age</th>\n",
              "      <th>Education</th>\n",
              "      <th>ShelveLoc_Good</th>\n",
              "      <th>ShelveLoc_Medium</th>\n",
              "      <th>Urban_Yes</th>\n",
              "      <th>US_Yes</th>\n",
              "    </tr>\n",
              "  </thead>\n",
              "  <tbody>\n",
              "    <tr>\n",
              "      <th>0</th>\n",
              "      <td>9.50</td>\n",
              "      <td>138</td>\n",
              "      <td>73</td>\n",
              "      <td>11</td>\n",
              "      <td>276</td>\n",
              "      <td>120</td>\n",
              "      <td>42</td>\n",
              "      <td>17</td>\n",
              "      <td>0</td>\n",
              "      <td>0</td>\n",
              "      <td>1</td>\n",
              "      <td>1</td>\n",
              "    </tr>\n",
              "    <tr>\n",
              "      <th>1</th>\n",
              "      <td>11.22</td>\n",
              "      <td>111</td>\n",
              "      <td>48</td>\n",
              "      <td>16</td>\n",
              "      <td>260</td>\n",
              "      <td>83</td>\n",
              "      <td>65</td>\n",
              "      <td>10</td>\n",
              "      <td>1</td>\n",
              "      <td>0</td>\n",
              "      <td>1</td>\n",
              "      <td>1</td>\n",
              "    </tr>\n",
              "    <tr>\n",
              "      <th>2</th>\n",
              "      <td>10.06</td>\n",
              "      <td>113</td>\n",
              "      <td>35</td>\n",
              "      <td>10</td>\n",
              "      <td>269</td>\n",
              "      <td>80</td>\n",
              "      <td>59</td>\n",
              "      <td>12</td>\n",
              "      <td>0</td>\n",
              "      <td>1</td>\n",
              "      <td>1</td>\n",
              "      <td>1</td>\n",
              "    </tr>\n",
              "    <tr>\n",
              "      <th>3</th>\n",
              "      <td>7.40</td>\n",
              "      <td>117</td>\n",
              "      <td>100</td>\n",
              "      <td>4</td>\n",
              "      <td>466</td>\n",
              "      <td>97</td>\n",
              "      <td>55</td>\n",
              "      <td>14</td>\n",
              "      <td>0</td>\n",
              "      <td>1</td>\n",
              "      <td>1</td>\n",
              "      <td>1</td>\n",
              "    </tr>\n",
              "    <tr>\n",
              "      <th>4</th>\n",
              "      <td>4.15</td>\n",
              "      <td>141</td>\n",
              "      <td>64</td>\n",
              "      <td>3</td>\n",
              "      <td>340</td>\n",
              "      <td>128</td>\n",
              "      <td>38</td>\n",
              "      <td>13</td>\n",
              "      <td>0</td>\n",
              "      <td>0</td>\n",
              "      <td>1</td>\n",
              "      <td>0</td>\n",
              "    </tr>\n",
              "  </tbody>\n",
              "</table>\n",
              "</div>"
            ],
            "text/plain": [
              "   Sales  CompPrice  Income  ...  ShelveLoc_Medium  Urban_Yes  US_Yes\n",
              "0   9.50        138      73  ...                 0          1       1\n",
              "1  11.22        111      48  ...                 0          1       1\n",
              "2  10.06        113      35  ...                 1          1       1\n",
              "3   7.40        117     100  ...                 1          1       1\n",
              "4   4.15        141      64  ...                 0          1       0\n",
              "\n",
              "[5 rows x 12 columns]"
            ]
          },
          "metadata": {
            "tags": []
          },
          "execution_count": 60
        }
      ]
    },
    {
      "cell_type": "code",
      "metadata": {
        "id": "5ICkvlRCzUyQ"
      },
      "source": [
        "X_9 = carseats.drop('Sales', axis = 1)"
      ],
      "execution_count": 63,
      "outputs": []
    },
    {
      "cell_type": "code",
      "metadata": {
        "id": "OyadKSg20N0C"
      },
      "source": [
        "y = carseats['Sales']"
      ],
      "execution_count": 64,
      "outputs": []
    },
    {
      "cell_type": "code",
      "metadata": {
        "id": "N4kgjTP50XeE"
      },
      "source": [
        "X_9['Income:Advertising'] = X_9['Income']*X_9['Advertising']\n",
        "X_9['Price:Age'] = X_9['Price']*X_9['Age']\n",
        "X_9 = sm.add_constant(X_9)"
      ],
      "execution_count": 67,
      "outputs": []
    },
    {
      "cell_type": "code",
      "metadata": {
        "colab": {
          "base_uri": "https://localhost:8080/"
        },
        "id": "Di03jOTY02OZ",
        "outputId": "373754fe-1800-465f-dc55-c77dfbc79c87"
      },
      "source": [
        "lr_9 = sm.OLS(y, X_9)\n",
        "results_9 = lr_9.fit()\n",
        "print(results_9.summary())"
      ],
      "execution_count": 68,
      "outputs": [
        {
          "output_type": "stream",
          "text": [
            "                            OLS Regression Results                            \n",
            "==============================================================================\n",
            "Dep. Variable:                  Sales   R-squared:                       0.876\n",
            "Model:                            OLS   Adj. R-squared:                  0.872\n",
            "Method:                 Least Squares   F-statistic:                     210.0\n",
            "Date:                Sun, 27 Jun 2021   Prob (F-statistic):          6.14e-166\n",
            "Time:                        04:58:42   Log-Likelihood:                -564.67\n",
            "No. Observations:                 400   AIC:                             1157.\n",
            "Df Residuals:                     386   BIC:                             1213.\n",
            "Df Model:                          13                                         \n",
            "Covariance Type:            nonrobust                                         \n",
            "======================================================================================\n",
            "                         coef    std err          t      P>|t|      [0.025      0.975]\n",
            "--------------------------------------------------------------------------------------\n",
            "const                  6.5756      1.009      6.519      0.000       4.592       8.559\n",
            "CompPrice              0.0929      0.004     22.567      0.000       0.085       0.101\n",
            "Income                 0.0109      0.003      4.183      0.000       0.006       0.016\n",
            "Advertising            0.0702      0.023      3.107      0.002       0.026       0.115\n",
            "Population             0.0002      0.000      0.433      0.665      -0.001       0.001\n",
            "Price                 -0.1008      0.007    -13.549      0.000      -0.115      -0.086\n",
            "Age                   -0.0579      0.016     -3.633      0.000      -0.089      -0.027\n",
            "Education             -0.0209      0.020     -1.063      0.288      -0.059       0.018\n",
            "ShelveLoc_Good         4.8487      0.153     31.724      0.000       4.548       5.149\n",
            "ShelveLoc_Medium       1.9533      0.126     15.531      0.000       1.706       2.201\n",
            "Urban_Yes              0.1402      0.112      1.247      0.213      -0.081       0.361\n",
            "US_Yes                -0.1576      0.149     -1.058      0.291      -0.450       0.135\n",
            "Income:Advertising     0.0008      0.000      2.698      0.007       0.000       0.001\n",
            "Price:Age              0.0001      0.000      0.801      0.424      -0.000       0.000\n",
            "==============================================================================\n",
            "Omnibus:                        1.281   Durbin-Watson:                   2.047\n",
            "Prob(Omnibus):                  0.527   Jarque-Bera (JB):                1.147\n",
            "Skew:                           0.129   Prob(JB):                        0.564\n",
            "Kurtosis:                       3.050   Cond. No.                     1.31e+05\n",
            "==============================================================================\n",
            "\n",
            "Warnings:\n",
            "[1] Standard Errors assume that the covariance matrix of the errors is correctly specified.\n",
            "[2] The condition number is large, 1.31e+05. This might indicate that there are\n",
            "strong multicollinearity or other numerical problems.\n"
          ],
          "name": "stdout"
        }
      ]
    },
    {
      "cell_type": "markdown",
      "metadata": {
        "id": "CUC4vVp41cuK"
      },
      "source": [
        "The fact that the coefficient for ``ShelveLoc_Good`` in the regression output is positive indicates that a good shelving location is associated with high sales (relative to a bad location). And ``ShelveLoc_Medium`` has a smaller positive coefficient, indicating that a medium shelving location leads to higher sales than a bad shelving location but lower sales than a good shelving location."
      ]
    },
    {
      "cell_type": "code",
      "metadata": {
        "id": "Eq5lLrRm096I"
      },
      "source": [
        ""
      ],
      "execution_count": null,
      "outputs": []
    }
  ]
}